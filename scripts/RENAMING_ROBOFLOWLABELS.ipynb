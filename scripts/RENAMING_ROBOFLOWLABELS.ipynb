{
  "nbformat": 4,
  "nbformat_minor": 0,
  "metadata": {
    "colab": {
      "provenance": []
    },
    "kernelspec": {
      "name": "python3",
      "display_name": "Python 3"
    },
    "language_info": {
      "name": "python"
    }
  },
  "cells": [
    {
      "cell_type": "code",
      "source": [
        "from google.colab import drive\n",
        "drive.mount('/content/drive')"
      ],
      "metadata": {
        "id": "LJE1jzcPg1fc"
      },
      "execution_count": null,
      "outputs": []
    },
    {
      "cell_type": "code",
      "source": [
        "import os\n",
        "import zipfile\n",
        "import xml.etree.ElementTree as ET"
      ],
      "metadata": {
        "id": "2lVW4PbYhM6q"
      },
      "execution_count": null,
      "outputs": []
    },
    {
      "cell_type": "code",
      "source": [
        "with zipfile.ZipFile('/content/drive/MyDrive/Roboflow Renaming/RockPredict2.v1i.voc (1).zip', 'r') as zip_ref:\n",
        "    zip_ref.extractall('/content/drive/MyDrive/Roboflow Renaming')"
      ],
      "metadata": {
        "id": "BdRF2-sohxEk"
      },
      "execution_count": null,
      "outputs": []
    },
    {
      "cell_type": "code",
      "source": [
        "base_folder = '/content/drive/MyDrive/Roboflow Renaming'"
      ],
      "metadata": {
        "id": "E_9kfBM1iBpe"
      },
      "execution_count": null,
      "outputs": []
    },
    {
      "cell_type": "markdown",
      "source": [
        "This function will inspect an .xml file, and rename the label if it exists. This is necessary for many publicly available Roboflow datasets, where the labels are in other languages, placeholders etc."
      ],
      "metadata": {
        "id": "AxHjNfwijEaf"
      }
    },
    {
      "cell_type": "code",
      "source": [
        "def rename_labels_in_xml(xml_file_path):\n",
        "  tree = ET.parse(xml_file_path)\n",
        "  root = tree.getroot()\n",
        "\n",
        "  for obj in root.findall('object'):\n",
        "    name = obj.find('name')\n",
        "    if name is not None and name.text == 'top_cast':\n",
        "      name.text = 'House'\n",
        "\n",
        "  tree.write(xml_file_path)"
      ],
      "metadata": {
        "id": "5ZWfP5KjiGG3"
      },
      "execution_count": null,
      "outputs": []
    },
    {
      "cell_type": "markdown",
      "source": [
        "Every image has a corresponding .xml file, and the following function accounts for Roboflow datasets which come with multiple unwanted classes along with the target class. This function will delete all the information in the < object > bracket, and leave an empty .xml file. We will later delete these images along with the empty .xml files:"
      ],
      "metadata": {
        "id": "f5o1B1fbu2HF"
      }
    },
    {
      "cell_type": "code",
      "source": [
        "def filter_annotations_for_label(xml_file_path, target_label):\n",
        "  tree = ET.parse(xml_file_path)\n",
        "  root = tree.getroot()\n",
        "\n",
        "  elements_to_remove = []\n",
        "\n",
        "  for obj in root.findall('object'):\n",
        "    name = obj.find('name')\n",
        "    if name is not None and name.text != target_label:\n",
        "      elements_to_remove.append(obj)\n",
        "\n",
        "  # Remove elements not related to the target label\n",
        "  for elem in elements_to_remove:\n",
        "    root.remove(elem)\n",
        "\n",
        "  # Write the modified XML tree back to the same file\n",
        "  tree.write(xml_file_path)"
      ],
      "metadata": {
        "id": "QdkHFbG44iLJ"
      },
      "execution_count": null,
      "outputs": []
    },
    {
      "cell_type": "markdown",
      "source": [
        "For each of the three subfolders (train, test, val) in a regular Roboflow zipfile, the labels for each .xml file will be passed through the 'rename_labels_in_xml' function:"
      ],
      "metadata": {
        "id": "5GRDYyUFj0KA"
      }
    },
    {
      "cell_type": "code",
      "source": [
        "subfolders = ['TOPhouse_train', 'TOPhouse_valid']"
      ],
      "metadata": {
        "id": "GySEOGrKjl-Y"
      },
      "execution_count": null,
      "outputs": []
    },
    {
      "cell_type": "code",
      "source": [
        "for subfolder in subfolders:\n",
        "  subfolder_path = os.path.join(base_folder, subfolder)\n",
        "\n",
        "  # Process .xml annotation files in the current subfolder\n",
        "  for xml_filename in os.listdir(subfolder_path):\n",
        "    if xml_filename.endswith('.xml'):\n",
        "      xml_path = os.path.join(subfolder_path, xml_filename)\n",
        "      rename_labels_in_xml(xml_path)"
      ],
      "metadata": {
        "id": "qyWPFXCljDwt"
      },
      "execution_count": null,
      "outputs": []
    },
    {
      "cell_type": "markdown",
      "source": [
        "The image folders are each passed through the 'filter_annotations_for_label' function which removes information for all labels except the target class:"
      ],
      "metadata": {
        "id": "rs-QDfVLvbY2"
      }
    },
    {
      "cell_type": "code",
      "source": [
        "subfolders = ['CLIFFStrain', 'CLIFFStest', 'CLIFFSvalid']\n",
        "base_folder = '/content/drive/MyDrive/Roboflow Renaming'\n",
        "target_label = 'cliff'"
      ],
      "metadata": {
        "id": "8bi9QvjepppO"
      },
      "execution_count": null,
      "outputs": []
    },
    {
      "cell_type": "code",
      "source": [
        "for subfolder in subfolders:\n",
        "  subfolder_path = os.path.join(base_folder, subfolder)\n",
        "\n",
        "  # Process .xml annotation files in the current subfolder\n",
        "  for xml_filename in os.listdir(subfolder_path):\n",
        "    if xml_filename.endswith('.xml'):\n",
        "      xml_path = os.path.join(subfolder_path, xml_filename)\n",
        "      filter_annotations_for_label(xml_path, target_label)"
      ],
      "metadata": {
        "id": "476brqdLp30h"
      },
      "execution_count": null,
      "outputs": []
    },
    {
      "cell_type": "markdown",
      "source": [
        "As the 'filter_annotations_for_label' function leaves an empty .xml file in most cases, we will need to remove along with the image which is left without annotations."
      ],
      "metadata": {
        "id": "RuYwJ9dLvldV"
      }
    },
    {
      "cell_type": "markdown",
      "source": [
        "This function returns the True or False value corresponding to if the .xml < object > details are present or not in the list respectively (if the < object > value is more than 0):"
      ],
      "metadata": {
        "id": "iJL0sJLqwMIe"
      }
    },
    {
      "cell_type": "code",
      "source": [
        "def has_annotations(xml_file_path):\n",
        "  tree = ET.parse(xml_file_path)\n",
        "  root = tree.getroot()\n",
        "\n",
        "  return len(root.findall('object')) > 0"
      ],
      "metadata": {
        "id": "mWfHQrUXvy95"
      },
      "execution_count": null,
      "outputs": []
    },
    {
      "cell_type": "markdown",
      "source": [
        "If the .xml file does not contain < object > details i.e. it was processed earlier to remove unwanted classes, then the following code removes this file along with its assorted image file:"
      ],
      "metadata": {
        "id": "l5iRmnnY0i3P"
      }
    },
    {
      "cell_type": "code",
      "source": [
        "for subfolder in subfolders:\n",
        "  folder_path = os.path.join(base_folder, subfolder)\n",
        "\n",
        "  # Process each file in the folder\n",
        "  for file_name in os.listdir(folder_path):\n",
        "    if file_name.endswith('.xml'):\n",
        "      xml_path = os.path.join(folder_path, file_name)\n",
        "      image_filename = os.path.splitext(file_name)[0] + '.jpg'\n",
        "      image_path = os.path.join(folder_path, image_filename)\n",
        "\n",
        "      if not has_annotations(xml_path):\n",
        "        os.remove(xml_path)\n",
        "        os.remove(image_path)"
      ],
      "metadata": {
        "id": "6O1JZ0JRwLbe"
      },
      "execution_count": null,
      "outputs": []
    }
  ]
}
