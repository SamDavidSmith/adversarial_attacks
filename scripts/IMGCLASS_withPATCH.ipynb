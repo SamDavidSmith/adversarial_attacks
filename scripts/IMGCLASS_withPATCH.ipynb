{
  "nbformat": 4,
  "nbformat_minor": 0,
  "metadata": {
    "colab": {
      "provenance": [],
      "collapsed_sections": [
        "CikR_zCndRls"
      ],
      "machine_shape": "hm",
      "gpuType": "A100"
    },
    "kernelspec": {
      "name": "python3",
      "display_name": "Python 3"
    },
    "language_info": {
      "name": "python"
    },
    "accelerator": "GPU",
    "widgets": {
      "application/vnd.jupyter.widget-state+json": {
        "f3856320b00f461ea7aad3f9a675b31b": {
          "model_module": "@jupyter-widgets/controls",
          "model_name": "HBoxModel",
          "model_module_version": "1.5.0",
          "state": {
            "_dom_classes": [],
            "_model_module": "@jupyter-widgets/controls",
            "_model_module_version": "1.5.0",
            "_model_name": "HBoxModel",
            "_view_count": null,
            "_view_module": "@jupyter-widgets/controls",
            "_view_module_version": "1.5.0",
            "_view_name": "HBoxView",
            "box_style": "",
            "children": [
              "IPY_MODEL_4d40689fbb084e6cb20b0686a7c240cb",
              "IPY_MODEL_f7660c589ab2483ea45527cbf7852ace",
              "IPY_MODEL_3000f6a3111d4c5bbf8d2dc2575dfb42"
            ],
            "layout": "IPY_MODEL_f68389c3e15049dd956477ac8737bbe3"
          }
        },
        "4d40689fbb084e6cb20b0686a7c240cb": {
          "model_module": "@jupyter-widgets/controls",
          "model_name": "HTMLModel",
          "model_module_version": "1.5.0",
          "state": {
            "_dom_classes": [],
            "_model_module": "@jupyter-widgets/controls",
            "_model_module_version": "1.5.0",
            "_model_name": "HTMLModel",
            "_view_count": null,
            "_view_module": "@jupyter-widgets/controls",
            "_view_module_version": "1.5.0",
            "_view_name": "HTMLView",
            "description": "",
            "description_tooltip": null,
            "layout": "IPY_MODEL_8416dcfcc336427ca1c29f2f36b7769f",
            "placeholder": "​",
            "style": "IPY_MODEL_542ceb73cc904711b0d8862db58be110",
            "value": "Validating...: 100%"
          }
        },
        "f7660c589ab2483ea45527cbf7852ace": {
          "model_module": "@jupyter-widgets/controls",
          "model_name": "FloatProgressModel",
          "model_module_version": "1.5.0",
          "state": {
            "_dom_classes": [],
            "_model_module": "@jupyter-widgets/controls",
            "_model_module_version": "1.5.0",
            "_model_name": "FloatProgressModel",
            "_view_count": null,
            "_view_module": "@jupyter-widgets/controls",
            "_view_module_version": "1.5.0",
            "_view_name": "ProgressView",
            "bar_style": "",
            "description": "",
            "description_tooltip": null,
            "layout": "IPY_MODEL_2abd6ddc90334211afbfaf81c0a76ad3",
            "max": 18,
            "min": 0,
            "orientation": "horizontal",
            "style": "IPY_MODEL_e6eff3384a96420e96ed4b529209e3cd",
            "value": 18
          }
        },
        "3000f6a3111d4c5bbf8d2dc2575dfb42": {
          "model_module": "@jupyter-widgets/controls",
          "model_name": "HTMLModel",
          "model_module_version": "1.5.0",
          "state": {
            "_dom_classes": [],
            "_model_module": "@jupyter-widgets/controls",
            "_model_module_version": "1.5.0",
            "_model_name": "HTMLModel",
            "_view_count": null,
            "_view_module": "@jupyter-widgets/controls",
            "_view_module_version": "1.5.0",
            "_view_name": "HTMLView",
            "description": "",
            "description_tooltip": null,
            "layout": "IPY_MODEL_d62f08259ed54b709a4ecb46fbb9c0eb",
            "placeholder": "​",
            "style": "IPY_MODEL_b5c8d428a19e4ed79516545b168bb068",
            "value": " 18/18 [01:16&lt;00:00,  3.89s/it]"
          }
        },
        "f68389c3e15049dd956477ac8737bbe3": {
          "model_module": "@jupyter-widgets/base",
          "model_name": "LayoutModel",
          "model_module_version": "1.2.0",
          "state": {
            "_model_module": "@jupyter-widgets/base",
            "_model_module_version": "1.2.0",
            "_model_name": "LayoutModel",
            "_view_count": null,
            "_view_module": "@jupyter-widgets/base",
            "_view_module_version": "1.2.0",
            "_view_name": "LayoutView",
            "align_content": null,
            "align_items": null,
            "align_self": null,
            "border": null,
            "bottom": null,
            "display": null,
            "flex": null,
            "flex_flow": null,
            "grid_area": null,
            "grid_auto_columns": null,
            "grid_auto_flow": null,
            "grid_auto_rows": null,
            "grid_column": null,
            "grid_gap": null,
            "grid_row": null,
            "grid_template_areas": null,
            "grid_template_columns": null,
            "grid_template_rows": null,
            "height": null,
            "justify_content": null,
            "justify_items": null,
            "left": null,
            "margin": null,
            "max_height": null,
            "max_width": null,
            "min_height": null,
            "min_width": null,
            "object_fit": null,
            "object_position": null,
            "order": null,
            "overflow": null,
            "overflow_x": null,
            "overflow_y": null,
            "padding": null,
            "right": null,
            "top": null,
            "visibility": "hidden",
            "width": null
          }
        },
        "8416dcfcc336427ca1c29f2f36b7769f": {
          "model_module": "@jupyter-widgets/base",
          "model_name": "LayoutModel",
          "model_module_version": "1.2.0",
          "state": {
            "_model_module": "@jupyter-widgets/base",
            "_model_module_version": "1.2.0",
            "_model_name": "LayoutModel",
            "_view_count": null,
            "_view_module": "@jupyter-widgets/base",
            "_view_module_version": "1.2.0",
            "_view_name": "LayoutView",
            "align_content": null,
            "align_items": null,
            "align_self": null,
            "border": null,
            "bottom": null,
            "display": null,
            "flex": null,
            "flex_flow": null,
            "grid_area": null,
            "grid_auto_columns": null,
            "grid_auto_flow": null,
            "grid_auto_rows": null,
            "grid_column": null,
            "grid_gap": null,
            "grid_row": null,
            "grid_template_areas": null,
            "grid_template_columns": null,
            "grid_template_rows": null,
            "height": null,
            "justify_content": null,
            "justify_items": null,
            "left": null,
            "margin": null,
            "max_height": null,
            "max_width": null,
            "min_height": null,
            "min_width": null,
            "object_fit": null,
            "object_position": null,
            "order": null,
            "overflow": null,
            "overflow_x": null,
            "overflow_y": null,
            "padding": null,
            "right": null,
            "top": null,
            "visibility": null,
            "width": null
          }
        },
        "542ceb73cc904711b0d8862db58be110": {
          "model_module": "@jupyter-widgets/controls",
          "model_name": "DescriptionStyleModel",
          "model_module_version": "1.5.0",
          "state": {
            "_model_module": "@jupyter-widgets/controls",
            "_model_module_version": "1.5.0",
            "_model_name": "DescriptionStyleModel",
            "_view_count": null,
            "_view_module": "@jupyter-widgets/base",
            "_view_module_version": "1.2.0",
            "_view_name": "StyleView",
            "description_width": ""
          }
        },
        "2abd6ddc90334211afbfaf81c0a76ad3": {
          "model_module": "@jupyter-widgets/base",
          "model_name": "LayoutModel",
          "model_module_version": "1.2.0",
          "state": {
            "_model_module": "@jupyter-widgets/base",
            "_model_module_version": "1.2.0",
            "_model_name": "LayoutModel",
            "_view_count": null,
            "_view_module": "@jupyter-widgets/base",
            "_view_module_version": "1.2.0",
            "_view_name": "LayoutView",
            "align_content": null,
            "align_items": null,
            "align_self": null,
            "border": null,
            "bottom": null,
            "display": null,
            "flex": null,
            "flex_flow": null,
            "grid_area": null,
            "grid_auto_columns": null,
            "grid_auto_flow": null,
            "grid_auto_rows": null,
            "grid_column": null,
            "grid_gap": null,
            "grid_row": null,
            "grid_template_areas": null,
            "grid_template_columns": null,
            "grid_template_rows": null,
            "height": null,
            "justify_content": null,
            "justify_items": null,
            "left": null,
            "margin": null,
            "max_height": null,
            "max_width": null,
            "min_height": null,
            "min_width": null,
            "object_fit": null,
            "object_position": null,
            "order": null,
            "overflow": null,
            "overflow_x": null,
            "overflow_y": null,
            "padding": null,
            "right": null,
            "top": null,
            "visibility": null,
            "width": null
          }
        },
        "e6eff3384a96420e96ed4b529209e3cd": {
          "model_module": "@jupyter-widgets/controls",
          "model_name": "ProgressStyleModel",
          "model_module_version": "1.5.0",
          "state": {
            "_model_module": "@jupyter-widgets/controls",
            "_model_module_version": "1.5.0",
            "_model_name": "ProgressStyleModel",
            "_view_count": null,
            "_view_module": "@jupyter-widgets/base",
            "_view_module_version": "1.2.0",
            "_view_name": "StyleView",
            "bar_color": null,
            "description_width": ""
          }
        },
        "d62f08259ed54b709a4ecb46fbb9c0eb": {
          "model_module": "@jupyter-widgets/base",
          "model_name": "LayoutModel",
          "model_module_version": "1.2.0",
          "state": {
            "_model_module": "@jupyter-widgets/base",
            "_model_module_version": "1.2.0",
            "_model_name": "LayoutModel",
            "_view_count": null,
            "_view_module": "@jupyter-widgets/base",
            "_view_module_version": "1.2.0",
            "_view_name": "LayoutView",
            "align_content": null,
            "align_items": null,
            "align_self": null,
            "border": null,
            "bottom": null,
            "display": null,
            "flex": null,
            "flex_flow": null,
            "grid_area": null,
            "grid_auto_columns": null,
            "grid_auto_flow": null,
            "grid_auto_rows": null,
            "grid_column": null,
            "grid_gap": null,
            "grid_row": null,
            "grid_template_areas": null,
            "grid_template_columns": null,
            "grid_template_rows": null,
            "height": null,
            "justify_content": null,
            "justify_items": null,
            "left": null,
            "margin": null,
            "max_height": null,
            "max_width": null,
            "min_height": null,
            "min_width": null,
            "object_fit": null,
            "object_position": null,
            "order": null,
            "overflow": null,
            "overflow_x": null,
            "overflow_y": null,
            "padding": null,
            "right": null,
            "top": null,
            "visibility": null,
            "width": null
          }
        },
        "b5c8d428a19e4ed79516545b168bb068": {
          "model_module": "@jupyter-widgets/controls",
          "model_name": "DescriptionStyleModel",
          "model_module_version": "1.5.0",
          "state": {
            "_model_module": "@jupyter-widgets/controls",
            "_model_module_version": "1.5.0",
            "_model_name": "DescriptionStyleModel",
            "_view_count": null,
            "_view_module": "@jupyter-widgets/base",
            "_view_module_version": "1.2.0",
            "_view_name": "StyleView",
            "description_width": ""
          }
        }
      }
    }
  },
  "cells": [
    {
      "cell_type": "code",
      "execution_count": null,
      "metadata": {
        "id": "hQgqmEyhgSBr"
      },
      "outputs": [],
      "source": [
        "import numpy as np\n",
        "import cv2\n",
        "import torch\n",
        "import torch.nn as nn\n",
        "#import torchvision\n",
        "import torch.nn.functional as F\n",
        "import torchvision.models as models\n",
        "import matplotlib.pyplot as plt"
      ]
    },
    {
      "cell_type": "markdown",
      "source": [
        "# Loading the Image Datasets"
      ],
      "metadata": {
        "id": "Tr8-dh2tj7Rd"
      }
    },
    {
      "cell_type": "code",
      "source": [
        "from torchvision import transforms, datasets\n",
        "import torch.optim as optim\n",
        "from torchvision.datasets import ImageFolder\n",
        "from torch.optim.lr_scheduler import CosineAnnealingLR"
      ],
      "metadata": {
        "id": "9w-JWy7dj7CJ"
      },
      "execution_count": null,
      "outputs": []
    },
    {
      "cell_type": "markdown",
      "source": [
        "Finding the mean and standard deviation values for my training set. However, this is for the method of normalising according to a mean and standard deviation value, which is not used in this instance."
      ],
      "metadata": {
        "id": "jpJNGObcWIQS"
      }
    },
    {
      "cell_type": "markdown",
      "source": [
        "The method I use for normalising resizes pixel values to the range [-1, 1]."
      ],
      "metadata": {
        "id": "s9kDDYIlYK2R"
      }
    },
    {
      "cell_type": "code",
      "source": [
        "def calculate_mean_std(class_path, sample_size=100):\n",
        "  channel_means = np.zeros(3)\n",
        "  channel_stds = np.zeros(3)\n",
        "\n",
        "  image_files = [f for f in os.listdir(class_path) if f.lower().endswith(('.jpg', '.jpeg', '.png'))]\n",
        "  sampled_files = random.sample(image_files, min(sample_size, len(image_files)))\n",
        "\n",
        "  for image_file in sampled_files:\n",
        "    image_path = os.path.join(class_path, image_file)\n",
        "    image = cv2.imread(image_path) / 255.0\n",
        "    channel_means += np.mean(image, axis=(0, 1))\n",
        "    channel_stds += np.std(image, axis=(0, 1))\n",
        "\n",
        "  return channel_means, channel_stds"
      ],
      "metadata": {
        "id": "BOdDgVV9kqpn"
      },
      "execution_count": null,
      "outputs": []
    },
    {
      "cell_type": "code",
      "source": [
        "import os\n",
        "import random\n",
        "import multiprocessing\n",
        "def main():\n",
        "  dataset_path = '/content/drive/MyDrive/TOPDOWN_IMGCLASSIFICATION/train'\n",
        "  class_folders = os.listdir(dataset_path)\n",
        "\n",
        "  num_processes = multiprocessing.cpu_count()\n",
        "  pool = multiprocessing.Pool(num_processes)\n",
        "\n",
        "  results = pool.map(calculate_mean_std, [os.path.join(dataset_path, class_folder) for class_folder in class_folders])\n",
        "\n",
        "  pool.close()\n",
        "  pool.join()\n",
        "\n",
        "  total_means = np.sum([result[0] for result in results], axis=0)\n",
        "  total_stds = np.sum([result[1] for result in results], axis=0)\n",
        "\n",
        "  total_num_images = sum(len(os.listdir(os.path.join(dataset_path, class_folder))) for class_folder in class_folders)\n",
        "  final_means = total_means / total_num_images\n",
        "  final_stds = total_stds / total_num_images\n",
        "\n",
        "  print(\"Mean values:\", final_means)\n",
        "  print(\"Standard deviation values:\", final_stds)"
      ],
      "metadata": {
        "id": "1gOjgHxykTYk"
      },
      "execution_count": null,
      "outputs": []
    },
    {
      "cell_type": "code",
      "source": [
        "if __name__ == '__main__':\n",
        "  main()"
      ],
      "metadata": {
        "colab": {
          "base_uri": "https://localhost:8080/"
        },
        "id": "M458muVPkVfF",
        "outputId": "4a76ee25-5165-4ef2-d9a1-0c81e5f20989"
      },
      "execution_count": null,
      "outputs": [
        {
          "output_type": "stream",
          "name": "stdout",
          "text": [
            "Mean values: [0.14841559 0.1634261  0.16317578]\n",
            "Standard deviation values: [0.07476693 0.07425934 0.07857122]\n"
          ]
        }
      ]
    },
    {
      "cell_type": "code",
      "source": [
        "class SSDPreprocessTransform:\n",
        "    def __init__(self, model_preprocess_function):\n",
        "        self.model_preprocess_function = model_preprocess_function\n",
        "\n",
        "    def __call__(self, img):\n",
        "        # Convert image to a float tensor\n",
        "        img_tensor = transforms.ToTensor()(img)\n",
        "\n",
        "        # Apply the model's preprocessing function\n",
        "        preprocessed_img = self.model_preprocess_function(img_tensor)\n",
        "        return preprocessed_img"
      ],
      "metadata": {
        "id": "1rFHmxi8fQcm"
      },
      "execution_count": null,
      "outputs": []
    },
    {
      "cell_type": "markdown",
      "source": [
        "This function outputs the resized value:"
      ],
      "metadata": {
        "id": "vPwWdaKQY5SZ"
      }
    },
    {
      "cell_type": "code",
      "source": [
        "def ssd_preprocess(resized_inputs):\n",
        "    return (2.0 / 255.0) * resized_inputs - 1.0"
      ],
      "metadata": {
        "id": "sp5JCuoofTM4"
      },
      "execution_count": null,
      "outputs": []
    },
    {
      "cell_type": "code",
      "source": [
        "ssd_transform = SSDPreprocessTransform(ssd_preprocess)"
      ],
      "metadata": {
        "id": "ewm0KfX8glI8"
      },
      "execution_count": null,
      "outputs": []
    },
    {
      "cell_type": "code",
      "source": [
        "resize_transform = transforms.Resize((320, 320))"
      ],
      "metadata": {
        "id": "WtPX3aj-gsVd"
      },
      "execution_count": null,
      "outputs": []
    },
    {
      "cell_type": "code",
      "source": [
        "NORM_MEAN = np.array([0.485, 0.456, 0.406])\n",
        "NORM_STD = np.array([0.229, 0.224, 0.225])"
      ],
      "metadata": {
        "id": "7A-fjdyAN5cB"
      },
      "execution_count": null,
      "outputs": []
    },
    {
      "cell_type": "code",
      "source": [
        "#data_transform = transforms.Compose([\n",
        "#    resize_transform,\n",
        "#    transforms.ToTensor(),\n",
        "#    transforms.Normalize(mean=NORM_MEAN,\n",
        "#                         std=NORM_STD) # Apply SSD preprocessing\n",
        "#])"
      ],
      "metadata": {
        "id": "zcDukfqGkBPc"
      },
      "execution_count": null,
      "outputs": []
    },
    {
      "cell_type": "code",
      "source": [
        "data_transform = transforms.Compose([\n",
        "    resize_transform,\n",
        "    ssd_transform,  # Apply SSD preprocessing\n",
        "])"
      ],
      "metadata": {
        "id": "sqMJD3nTONAf"
      },
      "execution_count": null,
      "outputs": []
    },
    {
      "cell_type": "markdown",
      "source": [
        "The amount of pictures in training and test sets:"
      ],
      "metadata": {
        "id": "6F3uNToLjtgF"
      }
    },
    {
      "cell_type": "code",
      "source": [
        "lengths = []\n",
        "for folder in os.listdir('/content/drive/MyDrive/TOPDOWN_IMGCLASSIFICATION/train'):\n",
        "  subfolder = os.path.join('/content/drive/MyDrive/TOPDOWN_IMGCLASSIFICATION/train', folder)\n",
        "  lengths.append(len(os.listdir(subfolder)))\n",
        "lengths\n",
        "print('The amount of train images:', sum(lengths))"
      ],
      "metadata": {
        "colab": {
          "base_uri": "https://localhost:8080/"
        },
        "id": "aHiRSmKOj2_E",
        "outputId": "0c32c362-bd5d-42f4-aceb-a6a1eee6f04e"
      },
      "execution_count": null,
      "outputs": [
        {
          "output_type": "stream",
          "name": "stdout",
          "text": [
            "The amount of train images: 1956\n"
          ]
        }
      ]
    },
    {
      "cell_type": "code",
      "source": [
        "lengths = []\n",
        "for folder in os.listdir('/content/drive/MyDrive/TOPDOWN_IMGCLASSIFICATION/test'):\n",
        "  subfolder = os.path.join('/content/drive/MyDrive/TOPDOWN_IMGCLASSIFICATION/test', folder)\n",
        "  lengths.append(len(os.listdir(subfolder)))\n",
        "lengths\n",
        "print('The amount of test images:', sum(lengths))"
      ],
      "metadata": {
        "colab": {
          "base_uri": "https://localhost:8080/"
        },
        "id": "pd-3b2rdjr9r",
        "outputId": "70640d93-6bf0-4c12-a64b-c6b7fd52c953"
      },
      "execution_count": null,
      "outputs": [
        {
          "output_type": "stream",
          "name": "stdout",
          "text": [
            "The amount of test images: 567\n"
          ]
        }
      ]
    },
    {
      "cell_type": "markdown",
      "source": [
        "Loading the dataset:"
      ],
      "metadata": {
        "id": "Y9OwT1BohCPV"
      }
    },
    {
      "cell_type": "code",
      "source": [
        "train_data_path = \"/content/drive/MyDrive/TOPDOWN_IMGCLASSIFICATION/train\"\n",
        "test_data_path = \"/content/drive/MyDrive/TOPDOWN_IMGCLASSIFICATION/test\"\n",
        "\n",
        "train_dataset = datasets.ImageFolder(root=train_data_path, transform=data_transform)\n",
        "test_dataset = datasets.ImageFolder(root=test_data_path, transform=data_transform)"
      ],
      "metadata": {
        "id": "0B1eteP_hBuB"
      },
      "execution_count": null,
      "outputs": []
    },
    {
      "cell_type": "code",
      "source": [
        "train_loader = torch.utils.data.DataLoader(train_dataset, batch_size=32, shuffle=True, num_workers=2)\n",
        "test_loader = torch.utils.data.DataLoader(test_dataset, batch_size=32, shuffle=False, num_workers=2)"
      ],
      "metadata": {
        "id": "B6KW9W7GjLvh"
      },
      "execution_count": null,
      "outputs": []
    },
    {
      "cell_type": "markdown",
      "source": [
        "Checking the pre-processed data:"
      ],
      "metadata": {
        "id": "DOGqj0TIq9II"
      }
    },
    {
      "cell_type": "code",
      "source": [
        "inverse_normalize = transforms.Normalize(\n",
        "    mean=[-mean/std for mean, std in zip(NORM_MEAN, NORM_STD)],\n",
        "    std=[1/std for std in NORM_STD]\n",
        ")\n",
        "\n",
        "for batch in train_loader:\n",
        "    images, labels = batch\n",
        "    # Apply inverse normalization\n",
        "    images_inv = inverse_normalize(images)\n",
        "\n",
        "    # Convert images to NumPy arrays for plotting\n",
        "    images_np = images_inv.numpy()\n",
        "    labels_np = labels.numpy()\n",
        "\n",
        "    # Loop through the batch and plot each image\n",
        "    for i in range(5):\n",
        "        plt.subplot(1, 5, i + 1)\n",
        "        plt.imshow(np.transpose(images_np[i], (1, 2, 0)))  # Convert from CHW to HWC\n",
        "        plt.title(f\"Label: {labels_np[i]}\")\n",
        "        plt.axis(\"off\")\n",
        "\n",
        "    plt.show()"
      ],
      "metadata": {
        "colab": {
          "base_uri": "https://localhost:8080/",
          "height": 644
        },
        "id": "zv8rK_j8Qr2b",
        "outputId": "4b7ef585-5e50-4c46-8c23-1c482f73f119"
      },
      "execution_count": null,
      "outputs": [
        {
          "output_type": "display_data",
          "data": {
            "text/plain": [
              "<Figure size 640x480 with 5 Axes>"
            ],
            "image/png": "[encoded data removed]"
          },
          "metadata": {}
        },
        {
          "output_type": "display_data",
          "data": {
            "text/plain": [
              "<Figure size 640x480 with 5 Axes>"
            ],
            "image/png": "[encoded data removed]"
          },
          "metadata": {}
        },
        {
          "output_type": "error",
          "ename": "KeyboardInterrupt",
          "evalue": "ignored",
          "traceback": [
            "\u001b[0;31m---------------------------------------------------------------------------\u001b[0m",
            "\u001b[0;31mKeyboardInterrupt\u001b[0m                         Traceback (most recent call last)",
            "\u001b[0;32m<ipython-input-12-9094b366fc6b>\u001b[0m in \u001b[0;36m<cell line: 6>\u001b[0;34m()\u001b[0m\n\u001b[1;32m      4\u001b[0m )\n\u001b[1;32m      5\u001b[0m \u001b[0;34m\u001b[0m\u001b[0m\n\u001b[0;32m----> 6\u001b[0;31m \u001b[0;32mfor\u001b[0m \u001b[0mbatch\u001b[0m \u001b[0;32min\u001b[0m \u001b[0mtrain_loader\u001b[0m\u001b[0;34m:\u001b[0m\u001b[0;34m\u001b[0m\u001b[0;34m\u001b[0m\u001b[0m\n\u001b[0m\u001b[1;32m      7\u001b[0m     \u001b[0mimages\u001b[0m\u001b[0;34m,\u001b[0m \u001b[0mlabels\u001b[0m \u001b[0;34m=\u001b[0m \u001b[0mbatch\u001b[0m\u001b[0;34m\u001b[0m\u001b[0;34m\u001b[0m\u001b[0m\n\u001b[1;32m      8\u001b[0m     \u001b[0;31m# Apply inverse normalization\u001b[0m\u001b[0;34m\u001b[0m\u001b[0;34m\u001b[0m\u001b[0m\n",
            "\u001b[0;32m/usr/local/lib/python3.10/dist-packages/torch/utils/data/dataloader.py\u001b[0m in \u001b[0;36m__next__\u001b[0;34m(self)\u001b[0m\n\u001b[1;32m    631\u001b[0m                 \u001b[0;31m# TODO(https://github.com/pytorch/pytorch/issues/76750)\u001b[0m\u001b[0;34m\u001b[0m\u001b[0;34m\u001b[0m\u001b[0m\n\u001b[1;32m    632\u001b[0m                 \u001b[0mself\u001b[0m\u001b[0;34m.\u001b[0m\u001b[0m_reset\u001b[0m\u001b[0;34m(\u001b[0m\u001b[0;34m)\u001b[0m  \u001b[0;31m# type: ignore[call-arg]\u001b[0m\u001b[0;34m\u001b[0m\u001b[0;34m\u001b[0m\u001b[0m\n\u001b[0;32m--> 633\u001b[0;31m             \u001b[0mdata\u001b[0m \u001b[0;34m=\u001b[0m \u001b[0mself\u001b[0m\u001b[0;34m.\u001b[0m\u001b[0m_next_data\u001b[0m\u001b[0;34m(\u001b[0m\u001b[0;34m)\u001b[0m\u001b[0;34m\u001b[0m\u001b[0;34m\u001b[0m\u001b[0m\n\u001b[0m\u001b[1;32m    634\u001b[0m             \u001b[0mself\u001b[0m\u001b[0;34m.\u001b[0m\u001b[0m_num_yielded\u001b[0m \u001b[0;34m+=\u001b[0m \u001b[0;36m1\u001b[0m\u001b[0;34m\u001b[0m\u001b[0;34m\u001b[0m\u001b[0m\n\u001b[1;32m    635\u001b[0m             \u001b[0;32mif\u001b[0m \u001b[0mself\u001b[0m\u001b[0;34m.\u001b[0m\u001b[0m_dataset_kind\u001b[0m \u001b[0;34m==\u001b[0m \u001b[0m_DatasetKind\u001b[0m\u001b[0;34m.\u001b[0m\u001b[0mIterable\u001b[0m \u001b[0;32mand\u001b[0m\u001b[0;31m \u001b[0m\u001b[0;31m\\\u001b[0m\u001b[0;34m\u001b[0m\u001b[0;34m\u001b[0m\u001b[0m\n",
            "\u001b[0;32m/usr/local/lib/python3.10/dist-packages/torch/utils/data/dataloader.py\u001b[0m in \u001b[0;36m_next_data\u001b[0;34m(self)\u001b[0m\n\u001b[1;32m   1326\u001b[0m \u001b[0;34m\u001b[0m\u001b[0m\n\u001b[1;32m   1327\u001b[0m             \u001b[0;32massert\u001b[0m \u001b[0;32mnot\u001b[0m \u001b[0mself\u001b[0m\u001b[0;34m.\u001b[0m\u001b[0m_shutdown\u001b[0m \u001b[0;32mand\u001b[0m \u001b[0mself\u001b[0m\u001b[0;34m.\u001b[0m\u001b[0m_tasks_outstanding\u001b[0m \u001b[0;34m>\u001b[0m \u001b[0;36m0\u001b[0m\u001b[0;34m\u001b[0m\u001b[0;34m\u001b[0m\u001b[0m\n\u001b[0;32m-> 1328\u001b[0;31m             \u001b[0midx\u001b[0m\u001b[0;34m,\u001b[0m \u001b[0mdata\u001b[0m \u001b[0;34m=\u001b[0m \u001b[0mself\u001b[0m\u001b[0;34m.\u001b[0m\u001b[0m_get_data\u001b[0m\u001b[0;34m(\u001b[0m\u001b[0;34m)\u001b[0m\u001b[0;34m\u001b[0m\u001b[0;34m\u001b[0m\u001b[0m\n\u001b[0m\u001b[1;32m   1329\u001b[0m             \u001b[0mself\u001b[0m\u001b[0;34m.\u001b[0m\u001b[0m_tasks_outstanding\u001b[0m \u001b[0;34m-=\u001b[0m \u001b[0;36m1\u001b[0m\u001b[0;34m\u001b[0m\u001b[0;34m\u001b[0m\u001b[0m\n\u001b[1;32m   1330\u001b[0m             \u001b[0;32mif\u001b[0m \u001b[0mself\u001b[0m\u001b[0;34m.\u001b[0m\u001b[0m_dataset_kind\u001b[0m \u001b[0;34m==\u001b[0m \u001b[0m_DatasetKind\u001b[0m\u001b[0;34m.\u001b[0m\u001b[0mIterable\u001b[0m\u001b[0;34m:\u001b[0m\u001b[0;34m\u001b[0m\u001b[0;34m\u001b[0m\u001b[0m\n",
            "\u001b[0;32m/usr/local/lib/python3.10/dist-packages/torch/utils/data/dataloader.py\u001b[0m in \u001b[0;36m_get_data\u001b[0;34m(self)\u001b[0m\n\u001b[1;32m   1292\u001b[0m         \u001b[0;32melse\u001b[0m\u001b[0;34m:\u001b[0m\u001b[0;34m\u001b[0m\u001b[0;34m\u001b[0m\u001b[0m\n\u001b[1;32m   1293\u001b[0m             \u001b[0;32mwhile\u001b[0m \u001b[0;32mTrue\u001b[0m\u001b[0;34m:\u001b[0m\u001b[0;34m\u001b[0m\u001b[0;34m\u001b[0m\u001b[0m\n\u001b[0;32m-> 1294\u001b[0;31m                 \u001b[0msuccess\u001b[0m\u001b[0;34m,\u001b[0m \u001b[0mdata\u001b[0m \u001b[0;34m=\u001b[0m \u001b[0mself\u001b[0m\u001b[0;34m.\u001b[0m\u001b[0m_try_get_data\u001b[0m\u001b[0;34m(\u001b[0m\u001b[0;34m)\u001b[0m\u001b[0;34m\u001b[0m\u001b[0;34m\u001b[0m\u001b[0m\n\u001b[0m\u001b[1;32m   1295\u001b[0m                 \u001b[0;32mif\u001b[0m \u001b[0msuccess\u001b[0m\u001b[0;34m:\u001b[0m\u001b[0;34m\u001b[0m\u001b[0;34m\u001b[0m\u001b[0m\n\u001b[1;32m   1296\u001b[0m                     \u001b[0;32mreturn\u001b[0m \u001b[0mdata\u001b[0m\u001b[0;34m\u001b[0m\u001b[0;34m\u001b[0m\u001b[0m\n",
            "\u001b[0;32m/usr/local/lib/python3.10/dist-packages/torch/utils/data/dataloader.py\u001b[0m in \u001b[0;36m_try_get_data\u001b[0;34m(self, timeout)\u001b[0m\n\u001b[1;32m   1130\u001b[0m         \u001b[0;31m#   (bool: whether successfully get data, any: data if successful else None)\u001b[0m\u001b[0;34m\u001b[0m\u001b[0;34m\u001b[0m\u001b[0m\n\u001b[1;32m   1131\u001b[0m         \u001b[0;32mtry\u001b[0m\u001b[0;34m:\u001b[0m\u001b[0;34m\u001b[0m\u001b[0;34m\u001b[0m\u001b[0m\n\u001b[0;32m-> 1132\u001b[0;31m             \u001b[0mdata\u001b[0m \u001b[0;34m=\u001b[0m \u001b[0mself\u001b[0m\u001b[0;34m.\u001b[0m\u001b[0m_data_queue\u001b[0m\u001b[0;34m.\u001b[0m\u001b[0mget\u001b[0m\u001b[0;34m(\u001b[0m\u001b[0mtimeout\u001b[0m\u001b[0;34m=\u001b[0m\u001b[0mtimeout\u001b[0m\u001b[0;34m)\u001b[0m\u001b[0;34m\u001b[0m\u001b[0;34m\u001b[0m\u001b[0m\n\u001b[0m\u001b[1;32m   1133\u001b[0m             \u001b[0;32mreturn\u001b[0m \u001b[0;34m(\u001b[0m\u001b[0;32mTrue\u001b[0m\u001b[0;34m,\u001b[0m \u001b[0mdata\u001b[0m\u001b[0;34m)\u001b[0m\u001b[0;34m\u001b[0m\u001b[0;34m\u001b[0m\u001b[0m\n\u001b[1;32m   1134\u001b[0m         \u001b[0;32mexcept\u001b[0m \u001b[0mException\u001b[0m \u001b[0;32mas\u001b[0m \u001b[0me\u001b[0m\u001b[0;34m:\u001b[0m\u001b[0;34m\u001b[0m\u001b[0;34m\u001b[0m\u001b[0m\n",
            "\u001b[0;32m/usr/lib/python3.10/multiprocessing/queues.py\u001b[0m in \u001b[0;36mget\u001b[0;34m(self, block, timeout)\u001b[0m\n\u001b[1;32m    111\u001b[0m                 \u001b[0;32mif\u001b[0m \u001b[0mblock\u001b[0m\u001b[0;34m:\u001b[0m\u001b[0;34m\u001b[0m\u001b[0;34m\u001b[0m\u001b[0m\n\u001b[1;32m    112\u001b[0m                     \u001b[0mtimeout\u001b[0m \u001b[0;34m=\u001b[0m \u001b[0mdeadline\u001b[0m \u001b[0;34m-\u001b[0m \u001b[0mtime\u001b[0m\u001b[0;34m.\u001b[0m\u001b[0mmonotonic\u001b[0m\u001b[0;34m(\u001b[0m\u001b[0;34m)\u001b[0m\u001b[0;34m\u001b[0m\u001b[0;34m\u001b[0m\u001b[0m\n\u001b[0;32m--> 113\u001b[0;31m                     \u001b[0;32mif\u001b[0m \u001b[0;32mnot\u001b[0m \u001b[0mself\u001b[0m\u001b[0;34m.\u001b[0m\u001b[0m_poll\u001b[0m\u001b[0;34m(\u001b[0m\u001b[0mtimeout\u001b[0m\u001b[0;34m)\u001b[0m\u001b[0;34m:\u001b[0m\u001b[0;34m\u001b[0m\u001b[0;34m\u001b[0m\u001b[0m\n\u001b[0m\u001b[1;32m    114\u001b[0m                         \u001b[0;32mraise\u001b[0m \u001b[0mEmpty\u001b[0m\u001b[0;34m\u001b[0m\u001b[0;34m\u001b[0m\u001b[0m\n\u001b[1;32m    115\u001b[0m                 \u001b[0;32melif\u001b[0m \u001b[0;32mnot\u001b[0m \u001b[0mself\u001b[0m\u001b[0;34m.\u001b[0m\u001b[0m_poll\u001b[0m\u001b[0;34m(\u001b[0m\u001b[0;34m)\u001b[0m\u001b[0;34m:\u001b[0m\u001b[0;34m\u001b[0m\u001b[0;34m\u001b[0m\u001b[0m\n",
            "\u001b[0;32m/usr/lib/python3.10/multiprocessing/connection.py\u001b[0m in \u001b[0;36mpoll\u001b[0;34m(self, timeout)\u001b[0m\n\u001b[1;32m    255\u001b[0m         \u001b[0mself\u001b[0m\u001b[0;34m.\u001b[0m\u001b[0m_check_closed\u001b[0m\u001b[0;34m(\u001b[0m\u001b[0;34m)\u001b[0m\u001b[0;34m\u001b[0m\u001b[0;34m\u001b[0m\u001b[0m\n\u001b[1;32m    256\u001b[0m         \u001b[0mself\u001b[0m\u001b[0;34m.\u001b[0m\u001b[0m_check_readable\u001b[0m\u001b[0;34m(\u001b[0m\u001b[0;34m)\u001b[0m\u001b[0;34m\u001b[0m\u001b[0;34m\u001b[0m\u001b[0m\n\u001b[0;32m--> 257\u001b[0;31m         \u001b[0;32mreturn\u001b[0m \u001b[0mself\u001b[0m\u001b[0;34m.\u001b[0m\u001b[0m_poll\u001b[0m\u001b[0;34m(\u001b[0m\u001b[0mtimeout\u001b[0m\u001b[0;34m)\u001b[0m\u001b[0;34m\u001b[0m\u001b[0;34m\u001b[0m\u001b[0m\n\u001b[0m\u001b[1;32m    258\u001b[0m \u001b[0;34m\u001b[0m\u001b[0m\n\u001b[1;32m    259\u001b[0m     \u001b[0;32mdef\u001b[0m \u001b[0m__enter__\u001b[0m\u001b[0;34m(\u001b[0m\u001b[0mself\u001b[0m\u001b[0;34m)\u001b[0m\u001b[0;34m:\u001b[0m\u001b[0;34m\u001b[0m\u001b[0;34m\u001b[0m\u001b[0m\n",
            "\u001b[0;32m/usr/lib/python3.10/multiprocessing/connection.py\u001b[0m in \u001b[0;36m_poll\u001b[0;34m(self, timeout)\u001b[0m\n\u001b[1;32m    422\u001b[0m \u001b[0;34m\u001b[0m\u001b[0m\n\u001b[1;32m    423\u001b[0m     \u001b[0;32mdef\u001b[0m \u001b[0m_poll\u001b[0m\u001b[0;34m(\u001b[0m\u001b[0mself\u001b[0m\u001b[0;34m,\u001b[0m \u001b[0mtimeout\u001b[0m\u001b[0;34m)\u001b[0m\u001b[0;34m:\u001b[0m\u001b[0;34m\u001b[0m\u001b[0;34m\u001b[0m\u001b[0m\n\u001b[0;32m--> 424\u001b[0;31m         \u001b[0mr\u001b[0m \u001b[0;34m=\u001b[0m \u001b[0mwait\u001b[0m\u001b[0;34m(\u001b[0m\u001b[0;34m[\u001b[0m\u001b[0mself\u001b[0m\u001b[0;34m]\u001b[0m\u001b[0;34m,\u001b[0m \u001b[0mtimeout\u001b[0m\u001b[0;34m)\u001b[0m\u001b[0;34m\u001b[0m\u001b[0;34m\u001b[0m\u001b[0m\n\u001b[0m\u001b[1;32m    425\u001b[0m         \u001b[0;32mreturn\u001b[0m \u001b[0mbool\u001b[0m\u001b[0;34m(\u001b[0m\u001b[0mr\u001b[0m\u001b[0;34m)\u001b[0m\u001b[0;34m\u001b[0m\u001b[0;34m\u001b[0m\u001b[0m\n\u001b[1;32m    426\u001b[0m \u001b[0;34m\u001b[0m\u001b[0m\n",
            "\u001b[0;32m/usr/lib/python3.10/multiprocessing/connection.py\u001b[0m in \u001b[0;36mwait\u001b[0;34m(object_list, timeout)\u001b[0m\n\u001b[1;32m    929\u001b[0m \u001b[0;34m\u001b[0m\u001b[0m\n\u001b[1;32m    930\u001b[0m             \u001b[0;32mwhile\u001b[0m \u001b[0;32mTrue\u001b[0m\u001b[0;34m:\u001b[0m\u001b[0;34m\u001b[0m\u001b[0;34m\u001b[0m\u001b[0m\n\u001b[0;32m--> 931\u001b[0;31m                 \u001b[0mready\u001b[0m \u001b[0;34m=\u001b[0m \u001b[0mselector\u001b[0m\u001b[0;34m.\u001b[0m\u001b[0mselect\u001b[0m\u001b[0;34m(\u001b[0m\u001b[0mtimeout\u001b[0m\u001b[0;34m)\u001b[0m\u001b[0;34m\u001b[0m\u001b[0;34m\u001b[0m\u001b[0m\n\u001b[0m\u001b[1;32m    932\u001b[0m                 \u001b[0;32mif\u001b[0m \u001b[0mready\u001b[0m\u001b[0;34m:\u001b[0m\u001b[0;34m\u001b[0m\u001b[0;34m\u001b[0m\u001b[0m\n\u001b[1;32m    933\u001b[0m                     \u001b[0;32mreturn\u001b[0m \u001b[0;34m[\u001b[0m\u001b[0mkey\u001b[0m\u001b[0;34m.\u001b[0m\u001b[0mfileobj\u001b[0m \u001b[0;32mfor\u001b[0m \u001b[0;34m(\u001b[0m\u001b[0mkey\u001b[0m\u001b[0;34m,\u001b[0m \u001b[0mevents\u001b[0m\u001b[0;34m)\u001b[0m \u001b[0;32min\u001b[0m \u001b[0mready\u001b[0m\u001b[0;34m]\u001b[0m\u001b[0;34m\u001b[0m\u001b[0;34m\u001b[0m\u001b[0m\n",
            "\u001b[0;32m/usr/lib/python3.10/selectors.py\u001b[0m in \u001b[0;36mselect\u001b[0;34m(self, timeout)\u001b[0m\n\u001b[1;32m    414\u001b[0m         \u001b[0mready\u001b[0m \u001b[0;34m=\u001b[0m \u001b[0;34m[\u001b[0m\u001b[0;34m]\u001b[0m\u001b[0;34m\u001b[0m\u001b[0;34m\u001b[0m\u001b[0m\n\u001b[1;32m    415\u001b[0m         \u001b[0;32mtry\u001b[0m\u001b[0;34m:\u001b[0m\u001b[0;34m\u001b[0m\u001b[0;34m\u001b[0m\u001b[0m\n\u001b[0;32m--> 416\u001b[0;31m             \u001b[0mfd_event_list\u001b[0m \u001b[0;34m=\u001b[0m \u001b[0mself\u001b[0m\u001b[0;34m.\u001b[0m\u001b[0m_selector\u001b[0m\u001b[0;34m.\u001b[0m\u001b[0mpoll\u001b[0m\u001b[0;34m(\u001b[0m\u001b[0mtimeout\u001b[0m\u001b[0;34m)\u001b[0m\u001b[0;34m\u001b[0m\u001b[0;34m\u001b[0m\u001b[0m\n\u001b[0m\u001b[1;32m    417\u001b[0m         \u001b[0;32mexcept\u001b[0m \u001b[0mInterruptedError\u001b[0m\u001b[0;34m:\u001b[0m\u001b[0;34m\u001b[0m\u001b[0;34m\u001b[0m\u001b[0m\n\u001b[1;32m    418\u001b[0m             \u001b[0;32mreturn\u001b[0m \u001b[0mready\u001b[0m\u001b[0;34m\u001b[0m\u001b[0;34m\u001b[0m\u001b[0m\n",
            "\u001b[0;31mKeyboardInterrupt\u001b[0m: "
          ]
        }
      ]
    },
    {
      "cell_type": "code",
      "source": [
        "for batch in train_loader:\n",
        "    images, labels = batch\n",
        "    # Convert images to NumPy arrays for plotting\n",
        "    images_np = images.numpy()\n",
        "    labels_np = labels.numpy()\n",
        "\n",
        "    # Loop through the batch and plot each image\n",
        "    for i in range(5):\n",
        "      plt.subplot(1, 5, i + 1)\n",
        "      original_image = (images_np[i] + 1.0) * 255.0 / 2.0\n",
        "      plt.imshow(np.transpose(original_image, (1, 2, 0)))# Convert from CHW to HWC\n",
        "      plt.title(f\"Label: {labels_np[i]}\")\n",
        "      plt.axis(\"off\")\n",
        "\n",
        "    plt.show()"
      ],
      "metadata": {
        "id": "AEpE0AK2meOg"
      },
      "execution_count": null,
      "outputs": []
    },
    {
      "cell_type": "markdown",
      "source": [
        "The images are stored with labels in the DataLoader in 320 x 320 size:\n",
        "![download.png](data:image/png;base64,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)"
      ],
      "metadata": {
        "id": "KPLHTmEHrRU3"
      }
    },
    {
      "cell_type": "markdown",
      "source": [
        "# Training the model\n",
        "\n",
        "Now that I have pre-processed the data in a similar way to my obj detection pipeline, to be precise the pixel value normalisation stage, I can move on with training a MobileNet V2 pre-trained model, which is also used as the feature extractor in the obj detection pipeline.\n",
        "\n",
        "(The values must be resized however, and 320 x 320 appears to be a good size for the model to at least recognise features well)."
      ],
      "metadata": {
        "id": "_kc3YlmasF0-"
      }
    },
    {
      "cell_type": "code",
      "source": [
        "# Load pre-trained MobileNetV2 model\n",
        "num_classes = 7\n",
        "model = models.mobilenet_v2(pretrained=True)\n",
        "\n",
        "for param in model.features.parameters():\n",
        "    param.requires_grad = False"
      ],
      "metadata": {
        "colab": {
          "base_uri": "https://localhost:8080/"
        },
        "id": "Hm-d2dBUhj8V",
        "outputId": "7929ba91-1a88-402c-eca4-57ecbbdf60ad"
      },
      "execution_count": null,
      "outputs": [
        {
          "output_type": "stream",
          "name": "stderr",
          "text": [
            "/usr/local/lib/python3.10/dist-packages/torchvision/models/_utils.py:208: UserWarning: The parameter 'pretrained' is deprecated since 0.13 and may be removed in the future, please use 'weights' instead.\n",
            "  warnings.warn(\n",
            "/usr/local/lib/python3.10/dist-packages/torchvision/models/_utils.py:223: UserWarning: Arguments other than a weight enum or `None` for 'weights' are deprecated since 0.13 and may be removed in the future. The current behavior is equivalent to passing `weights=MobileNet_V2_Weights.IMAGENET1K_V1`. You can also use `weights=MobileNet_V2_Weights.DEFAULT` to get the most up-to-date weights.\n",
            "  warnings.warn(msg)\n",
            "Downloading: \"https://download.pytorch.org/models/mobilenet_v2-b0353104.pth\" to /root/.cache/torch/hub/checkpoints/mobilenet_v2-b0353104.pth\n",
            "100%|██████████| 13.6M/13.6M [00:00<00:00, 257MB/s]\n"
          ]
        }
      ]
    },
    {
      "cell_type": "code",
      "source": [
        "model.classifier = nn.Sequential(\n",
        "    #nn.Dropout(0.2),\n",
        "    nn.Linear(1280, num_classes)\n",
        ")"
      ],
      "metadata": {
        "id": "-IGivBglt5t9"
      },
      "execution_count": null,
      "outputs": []
    },
    {
      "cell_type": "code",
      "source": [
        "import torch.nn.functional as F\n",
        "criterion = nn.CrossEntropyLoss()\n",
        "optimizer = optim.SGD(model.parameters(), lr=0.01, momentum=0.9)\n",
        "\n",
        "# Define the learning rate scheduler (cosine annealing with warm-up)\n",
        "#scheduler = CosineAnnealingLR(optimizer, T_max=10)"
      ],
      "metadata": {
        "id": "ZKS05dx4xLbE"
      },
      "execution_count": null,
      "outputs": []
    },
    {
      "cell_type": "code",
      "source": [
        "#####ATTEMPT AT REPLICATING THE LOSS FUNCTION OF THE TENSORFLOW OBJECT DETECTION MODEL\n",
        "\n",
        "#class WeightedSigmoidFocalLoss(nn.Module):\n",
        "#    def __init__(self, alpha=1, gamma=2, weight=None, reduction='mean'):\n",
        "#        super(WeightedSigmoidFocalLoss, self).__init__()\n",
        "#        self.alpha = alpha\n",
        "#        self.gamma = gamma\n",
        "#        self.weight = weight\n",
        "#        self.reduction = reduction\n",
        "\n",
        "#    def forward(self, input, target):\n",
        "#        p = torch.sigmoid(input)\n",
        "#        ce_loss = F.binary_cross_entropy_with_logits(input, target, reduction='none')\n",
        "#        p_t = p * target + (1 - p) * (1 - target)\n",
        "#        loss = ce_loss * ((1 - p_t) ** self.gamma)\n",
        "\n",
        "#        if self.weight is not None:\n",
        "#            loss *= self.alpha * target + (1 - self.alpha) * (1 - target)\n",
        "\n",
        "#        if self.reduction == 'mean':\n",
        "#            return loss.mean()\n",
        "#        elif self.reduction == 'sum':\n",
        "#            return loss.sum()\n",
        "#        else:\n",
        "#            return loss"
      ],
      "metadata": {
        "id": "PE99yt_4x4O0"
      },
      "execution_count": null,
      "outputs": []
    },
    {
      "cell_type": "code",
      "source": [
        "from torchvision import ops\n",
        "#WSFcriterion = ops.sigmoid_focal_loss(alpha=0.25, gamma=2)"
      ],
      "metadata": {
        "id": "fccE4hv01cXl"
      },
      "execution_count": null,
      "outputs": []
    },
    {
      "cell_type": "code",
      "source": [
        "num_epochs = 30"
      ],
      "metadata": {
        "id": "-ygw1X9d0UfY"
      },
      "execution_count": null,
      "outputs": []
    },
    {
      "cell_type": "code",
      "source": [
        "# Initialize variables\n",
        "best_metric = float('-inf')\n",
        "epochs_since_improvement = 0\n",
        "patience = 7\n",
        "\n",
        "for epoch in range(num_epochs):\n",
        "    model.train()  # Set the model to training mode\n",
        "    for batch_idx, (data, targets) in enumerate(train_loader):\n",
        "        optimizer.zero_grad()\n",
        "        outputs = model(data)\n",
        "        loss = criterion(outputs, targets)\n",
        "        #loss = ops.sigmoid_focal_loss(outputs, targets, alpha = 0.25, gamma = 2)\n",
        "        #loss = WSFcriterion(outputs, targets)\n",
        "        loss.backward()\n",
        "        optimizer.step()\n",
        "        #scheduler.step()\n",
        "\n",
        "    # Validation after each epoch\n",
        "    model.eval()  # Set the model to evaluation mode\n",
        "    val_loss = 0.0\n",
        "    correct = 0\n",
        "    total = 0\n",
        "    with torch.no_grad():\n",
        "        for data, targets in test_loader:\n",
        "            outputs = model(data)\n",
        "            val_loss += criterion(outputs, targets).item()\n",
        "            #loss = ops.sigmoid_focal_loss(outputs, targets, alpha = 0.25, gamma = 2)\n",
        "            #val_loss += WSFcriterion(outputs, targets).item()\n",
        "            _, predicted = outputs.max(1)\n",
        "            total += targets.size(0)\n",
        "            correct += predicted.eq(targets).sum().item()\n",
        "\n",
        "    print(f\"Epoch {epoch+1}/{num_epochs}, Validation Loss: {val_loss/len(test_loader):.4f}, Accuracy: {(100*correct/total):.2f}%\")\n",
        "    # Check if validation metric improved\n",
        "    current_metric = (100*correct/total)\n",
        "    if current_metric > best_metric:\n",
        "        best_metric = current_metric\n",
        "        epochs_since_improvement = 0\n",
        "    else:\n",
        "        epochs_since_improvement += 1\n",
        "    # Check if early stopping criteria met\n",
        "    if epochs_since_improvement >= patience:\n",
        "        print(f\"Early stopping: No improvement in {patience} epochs.\")\n",
        "        break"
      ],
      "metadata": {
        "colab": {
          "base_uri": "https://localhost:8080/"
        },
        "id": "DMbhUS290R4z",
        "outputId": "32918594-2536-4592-8b5f-acea6d91de8b"
      },
      "execution_count": null,
      "outputs": [
        {
          "output_type": "stream",
          "name": "stdout",
          "text": [
            "Epoch 1/30, Validation Loss: 0.4541, Accuracy: 83.77%\n",
            "Epoch 2/30, Validation Loss: 0.4841, Accuracy: 83.25%\n",
            "Epoch 3/30, Validation Loss: 0.5659, Accuracy: 77.25%\n",
            "Epoch 4/30, Validation Loss: 0.4275, Accuracy: 84.66%\n",
            "Epoch 5/30, Validation Loss: 0.3203, Accuracy: 89.42%\n",
            "Epoch 6/30, Validation Loss: 0.3705, Accuracy: 86.07%\n",
            "Epoch 7/30, Validation Loss: 0.3203, Accuracy: 87.83%\n",
            "Epoch 8/30, Validation Loss: 0.3253, Accuracy: 87.83%\n",
            "Epoch 9/30, Validation Loss: 0.3742, Accuracy: 86.77%\n",
            "Epoch 10/30, Validation Loss: 0.3757, Accuracy: 86.07%\n",
            "Epoch 11/30, Validation Loss: 0.3261, Accuracy: 88.01%\n",
            "Epoch 12/30, Validation Loss: 0.3648, Accuracy: 87.13%\n",
            "Early stopping: No improvement in 7 epochs.\n"
          ]
        }
      ]
    },
    {
      "cell_type": "markdown",
      "source": [
        "# Saving and Loading the models"
      ],
      "metadata": {
        "id": "Md5cRqZRM1PM"
      }
    },
    {
      "cell_type": "code",
      "source": [
        "import os"
      ],
      "metadata": {
        "id": "u9Yoe9gpNx5j"
      },
      "execution_count": null,
      "outputs": []
    },
    {
      "cell_type": "code",
      "source": [
        "directory_path = '/content/drive/MyDrive/IMGCLASSmodels/models'\n",
        "if not os.path.exists(directory_path):\n",
        "    # Create the directory\n",
        "    os.makedirs(directory_path)\n",
        "    print(f\"Directory '{directory_path}' created.\")"
      ],
      "metadata": {
        "colab": {
          "base_uri": "https://localhost:8080/"
        },
        "id": "6HYa_mSWNsiQ",
        "outputId": "2bfacabb-affb-44af-af54-0619231ea0b4"
      },
      "execution_count": null,
      "outputs": [
        {
          "output_type": "stream",
          "name": "stdout",
          "text": [
            "Directory '/content/drive/MyDrive/IMGCLASSmodels/models/firsttry_mobilenetv2_model.pth' created.\n"
          ]
        }
      ]
    },
    {
      "cell_type": "code",
      "source": [
        "torch.save(model.state_dict(), '/content/drive/MyDrive/IMGCLASSmodels/models/NORMVALUES_earlystopping_mobilenetv2_model.pth')"
      ],
      "metadata": {
        "id": "76cAGeKFM3Qd"
      },
      "execution_count": null,
      "outputs": []
    },
    {
      "cell_type": "code",
      "source": [
        "#torch.save(model, '/content/drive/MyDrive/IMGCLASSmodels/models/SECONDSAVE_firsttry_mobilenetv2_model.pth')"
      ],
      "metadata": {
        "id": "fJLp1s82PXH2"
      },
      "execution_count": null,
      "outputs": []
    },
    {
      "cell_type": "code",
      "source": [
        "#model = torch.load('/content/drive/MyDrive/IMGCLASSmodels/models/earlystopping_mobilenetv2_model.pth')"
      ],
      "metadata": {
        "id": "REVGTKNzOncB"
      },
      "execution_count": null,
      "outputs": []
    },
    {
      "cell_type": "code",
      "source": [
        "#model"
      ],
      "metadata": {
        "id": "WPv1-vYbLhpe"
      },
      "execution_count": null,
      "outputs": []
    },
    {
      "cell_type": "code",
      "source": [
        "# Load the model in case of the CPU environment it was loaded in needing specifying\n",
        "num_classes = 7\n",
        "model = models.mobilenet_v2(pretrained=False)  # Set pretrained to False since you're loading your own weights\n",
        "model.classifier = nn.Sequential(\n",
        "    nn.Linear(1280, num_classes)\n",
        ")  # Set pretrained to False since you'll load your own weights\n",
        "\n",
        "# Load the saved state_dict into the model\n",
        "checkpoint_path = '/content/drive/MyDrive/IMGCLASSmodels/models/earlystopping_mobilenetv2_model.pth'\n",
        "model.load_state_dict(torch.load(checkpoint_path))\n",
        "\n",
        "# Set the model to evaluation mode\n",
        "model.eval()"
      ],
      "metadata": {
        "id": "28z9rOuhOvir",
        "colab": {
          "base_uri": "https://localhost:8080/"
        },
        "outputId": "4109f5e5-6aa8-41bc-8752-1285ea837147"
      },
      "execution_count": null,
      "outputs": [
        {
          "output_type": "stream",
          "name": "stderr",
          "text": [
            "/usr/local/lib/python3.10/dist-packages/torchvision/models/_utils.py:208: UserWarning: The parameter 'pretrained' is deprecated since 0.13 and may be removed in the future, please use 'weights' instead.\n",
            "  warnings.warn(\n",
            "/usr/local/lib/python3.10/dist-packages/torchvision/models/_utils.py:223: UserWarning: Arguments other than a weight enum or `None` for 'weights' are deprecated since 0.13 and may be removed in the future. The current behavior is equivalent to passing `weights=None`.\n",
            "  warnings.warn(msg)\n"
          ]
        },
        {
          "output_type": "execute_result",
          "data": {
            "text/plain": [
              "MobileNetV2(\n",
              "  (features): Sequential(\n",
              "    (0): Conv2dNormActivation(\n",
              "      (0): Conv2d(3, 32, kernel_size=(3, 3), stride=(2, 2), padding=(1, 1), bias=False)\n",
              "      (1): BatchNorm2d(32, eps=1e-05, momentum=0.1, affine=True, track_running_stats=True)\n",
              "      (2): ReLU6(inplace=True)\n",
              "    )\n",
              "    (1): InvertedResidual(\n",
              "      (conv): Sequential(\n",
              "        (0): Conv2dNormActivation(\n",
              "          (0): Conv2d(32, 32, kernel_size=(3, 3), stride=(1, 1), padding=(1, 1), groups=32, bias=False)\n",
              "          (1): BatchNorm2d(32, eps=1e-05, momentum=0.1, affine=True, track_running_stats=True)\n",
              "          (2): ReLU6(inplace=True)\n",
              "        )\n",
              "        (1): Conv2d(32, 16, kernel_size=(1, 1), stride=(1, 1), bias=False)\n",
              "        (2): BatchNorm2d(16, eps=1e-05, momentum=0.1, affine=True, track_running_stats=True)\n",
              "      )\n",
              "    )\n",
              "    (2): InvertedResidual(\n",
              "      (conv): Sequential(\n",
              "        (0): Conv2dNormActivation(\n",
              "          (0): Conv2d(16, 96, kernel_size=(1, 1), stride=(1, 1), bias=False)\n",
              "          (1): BatchNorm2d(96, eps=1e-05, momentum=0.1, affine=True, track_running_stats=True)\n",
              "          (2): ReLU6(inplace=True)\n",
              "        )\n",
              "        (1): Conv2dNormActivation(\n",
              "          (0): Conv2d(96, 96, kernel_size=(3, 3), stride=(2, 2), padding=(1, 1), groups=96, bias=False)\n",
              "          (1): BatchNorm2d(96, eps=1e-05, momentum=0.1, affine=True, track_running_stats=True)\n",
              "          (2): ReLU6(inplace=True)\n",
              "        )\n",
              "        (2): Conv2d(96, 24, kernel_size=(1, 1), stride=(1, 1), bias=False)\n",
              "        (3): BatchNorm2d(24, eps=1e-05, momentum=0.1, affine=True, track_running_stats=True)\n",
              "      )\n",
              "    )\n",
              "    (3): InvertedResidual(\n",
              "      (conv): Sequential(\n",
              "        (0): Conv2dNormActivation(\n",
              "          (0): Conv2d(24, 144, kernel_size=(1, 1), stride=(1, 1), bias=False)\n",
              "          (1): BatchNorm2d(144, eps=1e-05, momentum=0.1, affine=True, track_running_stats=True)\n",
              "          (2): ReLU6(inplace=True)\n",
              "        )\n",
              "        (1): Conv2dNormActivation(\n",
              "          (0): Conv2d(144, 144, kernel_size=(3, 3), stride=(1, 1), padding=(1, 1), groups=144, bias=False)\n",
              "          (1): BatchNorm2d(144, eps=1e-05, momentum=0.1, affine=True, track_running_stats=True)\n",
              "          (2): ReLU6(inplace=True)\n",
              "        )\n",
              "        (2): Conv2d(144, 24, kernel_size=(1, 1), stride=(1, 1), bias=False)\n",
              "        (3): BatchNorm2d(24, eps=1e-05, momentum=0.1, affine=True, track_running_stats=True)\n",
              "      )\n",
              "    )\n",
              "    (4): InvertedResidual(\n",
              "      (conv): Sequential(\n",
              "        (0): Conv2dNormActivation(\n",
              "          (0): Conv2d(24, 144, kernel_size=(1, 1), stride=(1, 1), bias=False)\n",
              "          (1): BatchNorm2d(144, eps=1e-05, momentum=0.1, affine=True, track_running_stats=True)\n",
              "          (2): ReLU6(inplace=True)\n",
              "        )\n",
              "        (1): Conv2dNormActivation(\n",
              "          (0): Conv2d(144, 144, kernel_size=(3, 3), stride=(2, 2), padding=(1, 1), groups=144, bias=False)\n",
              "          (1): BatchNorm2d(144, eps=1e-05, momentum=0.1, affine=True, track_running_stats=True)\n",
              "          (2): ReLU6(inplace=True)\n",
              "        )\n",
              "        (2): Conv2d(144, 32, kernel_size=(1, 1), stride=(1, 1), bias=False)\n",
              "        (3): BatchNorm2d(32, eps=1e-05, momentum=0.1, affine=True, track_running_stats=True)\n",
              "      )\n",
              "    )\n",
              "    (5): InvertedResidual(\n",
              "      (conv): Sequential(\n",
              "        (0): Conv2dNormActivation(\n",
              "          (0): Conv2d(32, 192, kernel_size=(1, 1), stride=(1, 1), bias=False)\n",
              "          (1): BatchNorm2d(192, eps=1e-05, momentum=0.1, affine=True, track_running_stats=True)\n",
              "          (2): ReLU6(inplace=True)\n",
              "        )\n",
              "        (1): Conv2dNormActivation(\n",
              "          (0): Conv2d(192, 192, kernel_size=(3, 3), stride=(1, 1), padding=(1, 1), groups=192, bias=False)\n",
              "          (1): BatchNorm2d(192, eps=1e-05, momentum=0.1, affine=True, track_running_stats=True)\n",
              "          (2): ReLU6(inplace=True)\n",
              "        )\n",
              "        (2): Conv2d(192, 32, kernel_size=(1, 1), stride=(1, 1), bias=False)\n",
              "        (3): BatchNorm2d(32, eps=1e-05, momentum=0.1, affine=True, track_running_stats=True)\n",
              "      )\n",
              "    )\n",
              "    (6): InvertedResidual(\n",
              "      (conv): Sequential(\n",
              "        (0): Conv2dNormActivation(\n",
              "          (0): Conv2d(32, 192, kernel_size=(1, 1), stride=(1, 1), bias=False)\n",
              "          (1): BatchNorm2d(192, eps=1e-05, momentum=0.1, affine=True, track_running_stats=True)\n",
              "          (2): ReLU6(inplace=True)\n",
              "        )\n",
              "        (1): Conv2dNormActivation(\n",
              "          (0): Conv2d(192, 192, kernel_size=(3, 3), stride=(1, 1), padding=(1, 1), groups=192, bias=False)\n",
              "          (1): BatchNorm2d(192, eps=1e-05, momentum=0.1, affine=True, track_running_stats=True)\n",
              "          (2): ReLU6(inplace=True)\n",
              "        )\n",
              "        (2): Conv2d(192, 32, kernel_size=(1, 1), stride=(1, 1), bias=False)\n",
              "        (3): BatchNorm2d(32, eps=1e-05, momentum=0.1, affine=True, track_running_stats=True)\n",
              "      )\n",
              "    )\n",
              "    (7): InvertedResidual(\n",
              "      (conv): Sequential(\n",
              "        (0): Conv2dNormActivation(\n",
              "          (0): Conv2d(32, 192, kernel_size=(1, 1), stride=(1, 1), bias=False)\n",
              "          (1): BatchNorm2d(192, eps=1e-05, momentum=0.1, affine=True, track_running_stats=True)\n",
              "          (2): ReLU6(inplace=True)\n",
              "        )\n",
              "        (1): Conv2dNormActivation(\n",
              "          (0): Conv2d(192, 192, kernel_size=(3, 3), stride=(2, 2), padding=(1, 1), groups=192, bias=False)\n",
              "          (1): BatchNorm2d(192, eps=1e-05, momentum=0.1, affine=True, track_running_stats=True)\n",
              "          (2): ReLU6(inplace=True)\n",
              "        )\n",
              "        (2): Conv2d(192, 64, kernel_size=(1, 1), stride=(1, 1), bias=False)\n",
              "        (3): BatchNorm2d(64, eps=1e-05, momentum=0.1, affine=True, track_running_stats=True)\n",
              "      )\n",
              "    )\n",
              "    (8): InvertedResidual(\n",
              "      (conv): Sequential(\n",
              "        (0): Conv2dNormActivation(\n",
              "          (0): Conv2d(64, 384, kernel_size=(1, 1), stride=(1, 1), bias=False)\n",
              "          (1): BatchNorm2d(384, eps=1e-05, momentum=0.1, affine=True, track_running_stats=True)\n",
              "          (2): ReLU6(inplace=True)\n",
              "        )\n",
              "        (1): Conv2dNormActivation(\n",
              "          (0): Conv2d(384, 384, kernel_size=(3, 3), stride=(1, 1), padding=(1, 1), groups=384, bias=False)\n",
              "          (1): BatchNorm2d(384, eps=1e-05, momentum=0.1, affine=True, track_running_stats=True)\n",
              "          (2): ReLU6(inplace=True)\n",
              "        )\n",
              "        (2): Conv2d(384, 64, kernel_size=(1, 1), stride=(1, 1), bias=False)\n",
              "        (3): BatchNorm2d(64, eps=1e-05, momentum=0.1, affine=True, track_running_stats=True)\n",
              "      )\n",
              "    )\n",
              "    (9): InvertedResidual(\n",
              "      (conv): Sequential(\n",
              "        (0): Conv2dNormActivation(\n",
              "          (0): Conv2d(64, 384, kernel_size=(1, 1), stride=(1, 1), bias=False)\n",
              "          (1): BatchNorm2d(384, eps=1e-05, momentum=0.1, affine=True, track_running_stats=True)\n",
              "          (2): ReLU6(inplace=True)\n",
              "        )\n",
              "        (1): Conv2dNormActivation(\n",
              "          (0): Conv2d(384, 384, kernel_size=(3, 3), stride=(1, 1), padding=(1, 1), groups=384, bias=False)\n",
              "          (1): BatchNorm2d(384, eps=1e-05, momentum=0.1, affine=True, track_running_stats=True)\n",
              "          (2): ReLU6(inplace=True)\n",
              "        )\n",
              "        (2): Conv2d(384, 64, kernel_size=(1, 1), stride=(1, 1), bias=False)\n",
              "        (3): BatchNorm2d(64, eps=1e-05, momentum=0.1, affine=True, track_running_stats=True)\n",
              "      )\n",
              "    )\n",
              "    (10): InvertedResidual(\n",
              "      (conv): Sequential(\n",
              "        (0): Conv2dNormActivation(\n",
              "          (0): Conv2d(64, 384, kernel_size=(1, 1), stride=(1, 1), bias=False)\n",
              "          (1): BatchNorm2d(384, eps=1e-05, momentum=0.1, affine=True, track_running_stats=True)\n",
              "          (2): ReLU6(inplace=True)\n",
              "        )\n",
              "        (1): Conv2dNormActivation(\n",
              "          (0): Conv2d(384, 384, kernel_size=(3, 3), stride=(1, 1), padding=(1, 1), groups=384, bias=False)\n",
              "          (1): BatchNorm2d(384, eps=1e-05, momentum=0.1, affine=True, track_running_stats=True)\n",
              "          (2): ReLU6(inplace=True)\n",
              "        )\n",
              "        (2): Conv2d(384, 64, kernel_size=(1, 1), stride=(1, 1), bias=False)\n",
              "        (3): BatchNorm2d(64, eps=1e-05, momentum=0.1, affine=True, track_running_stats=True)\n",
              "      )\n",
              "    )\n",
              "    (11): InvertedResidual(\n",
              "      (conv): Sequential(\n",
              "        (0): Conv2dNormActivation(\n",
              "          (0): Conv2d(64, 384, kernel_size=(1, 1), stride=(1, 1), bias=False)\n",
              "          (1): BatchNorm2d(384, eps=1e-05, momentum=0.1, affine=True, track_running_stats=True)\n",
              "          (2): ReLU6(inplace=True)\n",
              "        )\n",
              "        (1): Conv2dNormActivation(\n",
              "          (0): Conv2d(384, 384, kernel_size=(3, 3), stride=(1, 1), padding=(1, 1), groups=384, bias=False)\n",
              "          (1): BatchNorm2d(384, eps=1e-05, momentum=0.1, affine=True, track_running_stats=True)\n",
              "          (2): ReLU6(inplace=True)\n",
              "        )\n",
              "        (2): Conv2d(384, 96, kernel_size=(1, 1), stride=(1, 1), bias=False)\n",
              "        (3): BatchNorm2d(96, eps=1e-05, momentum=0.1, affine=True, track_running_stats=True)\n",
              "      )\n",
              "    )\n",
              "    (12): InvertedResidual(\n",
              "      (conv): Sequential(\n",
              "        (0): Conv2dNormActivation(\n",
              "          (0): Conv2d(96, 576, kernel_size=(1, 1), stride=(1, 1), bias=False)\n",
              "          (1): BatchNorm2d(576, eps=1e-05, momentum=0.1, affine=True, track_running_stats=True)\n",
              "          (2): ReLU6(inplace=True)\n",
              "        )\n",
              "        (1): Conv2dNormActivation(\n",
              "          (0): Conv2d(576, 576, kernel_size=(3, 3), stride=(1, 1), padding=(1, 1), groups=576, bias=False)\n",
              "          (1): BatchNorm2d(576, eps=1e-05, momentum=0.1, affine=True, track_running_stats=True)\n",
              "          (2): ReLU6(inplace=True)\n",
              "        )\n",
              "        (2): Conv2d(576, 96, kernel_size=(1, 1), stride=(1, 1), bias=False)\n",
              "        (3): BatchNorm2d(96, eps=1e-05, momentum=0.1, affine=True, track_running_stats=True)\n",
              "      )\n",
              "    )\n",
              "    (13): InvertedResidual(\n",
              "      (conv): Sequential(\n",
              "        (0): Conv2dNormActivation(\n",
              "          (0): Conv2d(96, 576, kernel_size=(1, 1), stride=(1, 1), bias=False)\n",
              "          (1): BatchNorm2d(576, eps=1e-05, momentum=0.1, affine=True, track_running_stats=True)\n",
              "          (2): ReLU6(inplace=True)\n",
              "        )\n",
              "        (1): Conv2dNormActivation(\n",
              "          (0): Conv2d(576, 576, kernel_size=(3, 3), stride=(1, 1), padding=(1, 1), groups=576, bias=False)\n",
              "          (1): BatchNorm2d(576, eps=1e-05, momentum=0.1, affine=True, track_running_stats=True)\n",
              "          (2): ReLU6(inplace=True)\n",
              "        )\n",
              "        (2): Conv2d(576, 96, kernel_size=(1, 1), stride=(1, 1), bias=False)\n",
              "        (3): BatchNorm2d(96, eps=1e-05, momentum=0.1, affine=True, track_running_stats=True)\n",
              "      )\n",
              "    )\n",
              "    (14): InvertedResidual(\n",
              "      (conv): Sequential(\n",
              "        (0): Conv2dNormActivation(\n",
              "          (0): Conv2d(96, 576, kernel_size=(1, 1), stride=(1, 1), bias=False)\n",
              "          (1): BatchNorm2d(576, eps=1e-05, momentum=0.1, affine=True, track_running_stats=True)\n",
              "          (2): ReLU6(inplace=True)\n",
              "        )\n",
              "        (1): Conv2dNormActivation(\n",
              "          (0): Conv2d(576, 576, kernel_size=(3, 3), stride=(2, 2), padding=(1, 1), groups=576, bias=False)\n",
              "          (1): BatchNorm2d(576, eps=1e-05, momentum=0.1, affine=True, track_running_stats=True)\n",
              "          (2): ReLU6(inplace=True)\n",
              "        )\n",
              "        (2): Conv2d(576, 160, kernel_size=(1, 1), stride=(1, 1), bias=False)\n",
              "        (3): BatchNorm2d(160, eps=1e-05, momentum=0.1, affine=True, track_running_stats=True)\n",
              "      )\n",
              "    )\n",
              "    (15): InvertedResidual(\n",
              "      (conv): Sequential(\n",
              "        (0): Conv2dNormActivation(\n",
              "          (0): Conv2d(160, 960, kernel_size=(1, 1), stride=(1, 1), bias=False)\n",
              "          (1): BatchNorm2d(960, eps=1e-05, momentum=0.1, affine=True, track_running_stats=True)\n",
              "          (2): ReLU6(inplace=True)\n",
              "        )\n",
              "        (1): Conv2dNormActivation(\n",
              "          (0): Conv2d(960, 960, kernel_size=(3, 3), stride=(1, 1), padding=(1, 1), groups=960, bias=False)\n",
              "          (1): BatchNorm2d(960, eps=1e-05, momentum=0.1, affine=True, track_running_stats=True)\n",
              "          (2): ReLU6(inplace=True)\n",
              "        )\n",
              "        (2): Conv2d(960, 160, kernel_size=(1, 1), stride=(1, 1), bias=False)\n",
              "        (3): BatchNorm2d(160, eps=1e-05, momentum=0.1, affine=True, track_running_stats=True)\n",
              "      )\n",
              "    )\n",
              "    (16): InvertedResidual(\n",
              "      (conv): Sequential(\n",
              "        (0): Conv2dNormActivation(\n",
              "          (0): Conv2d(160, 960, kernel_size=(1, 1), stride=(1, 1), bias=False)\n",
              "          (1): BatchNorm2d(960, eps=1e-05, momentum=0.1, affine=True, track_running_stats=True)\n",
              "          (2): ReLU6(inplace=True)\n",
              "        )\n",
              "        (1): Conv2dNormActivation(\n",
              "          (0): Conv2d(960, 960, kernel_size=(3, 3), stride=(1, 1), padding=(1, 1), groups=960, bias=False)\n",
              "          (1): BatchNorm2d(960, eps=1e-05, momentum=0.1, affine=True, track_running_stats=True)\n",
              "          (2): ReLU6(inplace=True)\n",
              "        )\n",
              "        (2): Conv2d(960, 160, kernel_size=(1, 1), stride=(1, 1), bias=False)\n",
              "        (3): BatchNorm2d(160, eps=1e-05, momentum=0.1, affine=True, track_running_stats=True)\n",
              "      )\n",
              "    )\n",
              "    (17): InvertedResidual(\n",
              "      (conv): Sequential(\n",
              "        (0): Conv2dNormActivation(\n",
              "          (0): Conv2d(160, 960, kernel_size=(1, 1), stride=(1, 1), bias=False)\n",
              "          (1): BatchNorm2d(960, eps=1e-05, momentum=0.1, affine=True, track_running_stats=True)\n",
              "          (2): ReLU6(inplace=True)\n",
              "        )\n",
              "        (1): Conv2dNormActivation(\n",
              "          (0): Conv2d(960, 960, kernel_size=(3, 3), stride=(1, 1), padding=(1, 1), groups=960, bias=False)\n",
              "          (1): BatchNorm2d(960, eps=1e-05, momentum=0.1, affine=True, track_running_stats=True)\n",
              "          (2): ReLU6(inplace=True)\n",
              "        )\n",
              "        (2): Conv2d(960, 320, kernel_size=(1, 1), stride=(1, 1), bias=False)\n",
              "        (3): BatchNorm2d(320, eps=1e-05, momentum=0.1, affine=True, track_running_stats=True)\n",
              "      )\n",
              "    )\n",
              "    (18): Conv2dNormActivation(\n",
              "      (0): Conv2d(320, 1280, kernel_size=(1, 1), stride=(1, 1), bias=False)\n",
              "      (1): BatchNorm2d(1280, eps=1e-05, momentum=0.1, affine=True, track_running_stats=True)\n",
              "      (2): ReLU6(inplace=True)\n",
              "    )\n",
              "  )\n",
              "  (classifier): Sequential(\n",
              "    (0): Linear(in_features=1280, out_features=7, bias=True)\n",
              "  )\n",
              ")"
            ]
          },
          "metadata": {},
          "execution_count": 3
        }
      ]
    },
    {
      "cell_type": "markdown",
      "source": [
        "# Patch functions\n"
      ],
      "metadata": {
        "id": "i3ulZYibcK2E"
      }
    },
    {
      "cell_type": "code",
      "source": [
        "# PyTorch Lightning\n",
        "import os\n",
        "try:\n",
        "    import pytorch_lightning as pl\n",
        "except ModuleNotFoundError: # Google Colab does not have PyTorch Lightning installed by default. Hence, we do it here if necessary\n",
        "    !pip install --quiet pytorch-lightning>=1.4\n",
        "    import pytorch_lightning as pl\n",
        "from pytorch_lightning.callbacks import LearningRateMonitor, ModelCheckpoint\n",
        "\n",
        "# Path to the folder where the datasets are/should be downloaded (e.g. MNIST)\n",
        "DATASET_PATH = \"/content/drive/MyDrive/IMGCLASSmodels/datasets\"\n",
        "# Path to the folder where the pretrained models are saved\n",
        "CHECKPOINT_PATH = \"/content/drive/MyDrive/IMGCLASSmodels/patches\"\n",
        "\n",
        "# Setting the seed\n",
        "pl.seed_everything(42)\n",
        "\n",
        "# Ensure that all operations are deterministic on GPU (if used) for reproducibility\n",
        "torch.backends.cudnn.determinstic = True\n",
        "torch.backends.cudnn.benchmark = False\n",
        "\n",
        "# Fetching the device that will be used throughout this notebook\n",
        "device = torch.device(\"cpu\") if not torch.cuda.is_available() else torch.device(\"cuda:0\")\n",
        "print(\"Using device\", device)"
      ],
      "metadata": {
        "colab": {
          "base_uri": "https://localhost:8080/"
        },
        "id": "RziTriJhedtL",
        "outputId": "2b0a215e-6711-45ef-c2e3-b1f001e1647a"
      },
      "execution_count": null,
      "outputs": [
        {
          "output_type": "stream",
          "name": "stderr",
          "text": [
            "INFO:lightning_fabric.utilities.seed:Global seed set to 42\n"
          ]
        },
        {
          "output_type": "stream",
          "name": "stdout",
          "text": [
            "Using device cuda:0\n"
          ]
        }
      ]
    },
    {
      "cell_type": "markdown",
      "source": [
        "Placing the patch at a random location in an image:"
      ],
      "metadata": {
        "id": "4KwlQrimctjG"
      }
    },
    {
      "cell_type": "code",
      "execution_count": null,
      "metadata": {
        "id": "zgmoj3QpFCNJ"
      },
      "outputs": [],
      "source": [
        "def place_patch(img, patch):\n",
        "    for i in range(img.shape[0]):\n",
        "        h_offset = np.random.randint(0,img.shape[2]-patch.shape[1]-1)\n",
        "        w_offset = np.random.randint(0,img.shape[3]-patch.shape[2]-1)\n",
        "        img[i,:,h_offset:h_offset+patch.shape[1],w_offset:w_offset+patch.shape[2]] = patch_forward(patch)\n",
        "    return img"
      ]
    },
    {
      "cell_type": "code",
      "source": [
        "#TENSOR_MEANS, TENSOR_STD = torch.FloatTensor(NORM_MEAN)[:,None,None], torch.FloatTensor(NORM_STD)[:,None,None]\n",
        "#def patch_forward(patch):\n",
        "#    # Map patch values from [-infty,infty] to ImageNet min and max\n",
        "#    patch = (torch.tanh(patch) + 1 - 2 * TENSOR_MEANS) / (2 * TENSOR_STD)\n",
        "#    return patch"
      ],
      "metadata": {
        "id": "Nhz9EL1fNwSU",
        "colab": {
          "base_uri": "https://localhost:8080/",
          "height": 245
        },
        "outputId": "42e26421-65d8-4520-cde6-486413a15cf0"
      },
      "execution_count": null,
      "outputs": [
        {
          "output_type": "error",
          "ename": "NameError",
          "evalue": "ignored",
          "traceback": [
            "\u001b[0;31m---------------------------------------------------------------------------\u001b[0m",
            "\u001b[0;31mNameError\u001b[0m                                 Traceback (most recent call last)",
            "\u001b[0;32m<ipython-input-6-05bbf6e9c2dd>\u001b[0m in \u001b[0;36m<cell line: 1>\u001b[0;34m()\u001b[0m\n\u001b[0;32m----> 1\u001b[0;31m \u001b[0mTENSOR_MEANS\u001b[0m\u001b[0;34m,\u001b[0m \u001b[0mTENSOR_STD\u001b[0m \u001b[0;34m=\u001b[0m \u001b[0mtorch\u001b[0m\u001b[0;34m.\u001b[0m\u001b[0mFloatTensor\u001b[0m\u001b[0;34m(\u001b[0m\u001b[0mNORM_MEAN\u001b[0m\u001b[0;34m)\u001b[0m\u001b[0;34m[\u001b[0m\u001b[0;34m:\u001b[0m\u001b[0;34m,\u001b[0m\u001b[0;32mNone\u001b[0m\u001b[0;34m,\u001b[0m\u001b[0;32mNone\u001b[0m\u001b[0;34m]\u001b[0m\u001b[0;34m,\u001b[0m \u001b[0mtorch\u001b[0m\u001b[0;34m.\u001b[0m\u001b[0mFloatTensor\u001b[0m\u001b[0;34m(\u001b[0m\u001b[0mNORM_STD\u001b[0m\u001b[0;34m)\u001b[0m\u001b[0;34m[\u001b[0m\u001b[0;34m:\u001b[0m\u001b[0;34m,\u001b[0m\u001b[0;32mNone\u001b[0m\u001b[0;34m,\u001b[0m\u001b[0;32mNone\u001b[0m\u001b[0;34m]\u001b[0m\u001b[0;34m\u001b[0m\u001b[0;34m\u001b[0m\u001b[0m\n\u001b[0m\u001b[1;32m      2\u001b[0m \u001b[0;32mdef\u001b[0m \u001b[0mpatch_forward\u001b[0m\u001b[0;34m(\u001b[0m\u001b[0mpatch\u001b[0m\u001b[0;34m)\u001b[0m\u001b[0;34m:\u001b[0m\u001b[0;34m\u001b[0m\u001b[0;34m\u001b[0m\u001b[0m\n\u001b[1;32m      3\u001b[0m     \u001b[0;31m# Map patch values from [-infty,infty] to ImageNet min and max\u001b[0m\u001b[0;34m\u001b[0m\u001b[0;34m\u001b[0m\u001b[0m\n\u001b[1;32m      4\u001b[0m     \u001b[0mpatch\u001b[0m \u001b[0;34m=\u001b[0m \u001b[0;34m(\u001b[0m\u001b[0mtorch\u001b[0m\u001b[0;34m.\u001b[0m\u001b[0mtanh\u001b[0m\u001b[0;34m(\u001b[0m\u001b[0mpatch\u001b[0m\u001b[0;34m)\u001b[0m \u001b[0;34m+\u001b[0m \u001b[0;36m1\u001b[0m \u001b[0;34m-\u001b[0m \u001b[0;36m2\u001b[0m \u001b[0;34m*\u001b[0m \u001b[0mTENSOR_MEANS\u001b[0m\u001b[0;34m)\u001b[0m \u001b[0;34m/\u001b[0m \u001b[0;34m(\u001b[0m\u001b[0;36m2\u001b[0m \u001b[0;34m*\u001b[0m \u001b[0mTENSOR_STD\u001b[0m\u001b[0;34m)\u001b[0m\u001b[0;34m\u001b[0m\u001b[0;34m\u001b[0m\u001b[0m\n\u001b[1;32m      5\u001b[0m     \u001b[0;32mreturn\u001b[0m \u001b[0mpatch\u001b[0m\u001b[0;34m\u001b[0m\u001b[0;34m\u001b[0m\u001b[0m\n",
            "\u001b[0;31mNameError\u001b[0m: name 'NORM_MEAN' is not defined"
          ]
        }
      ]
    },
    {
      "cell_type": "markdown",
      "source": [
        "Normalising the patch's pixel values to the same range as the training and test images, to a range of [-1, 1]:"
      ],
      "metadata": {
        "id": "rafL39OFdNna"
      }
    },
    {
      "cell_type": "code",
      "source": [
        "#NORM_MEAN = np.array([0.485, 0.456, 0.406])\n",
        "#NORM_STD = np.array([0.229, 0.224, 0.225])\n",
        "#TENSOR_MEANS, TENSOR_STD = torch.FloatTensor(NORM_MEAN)[:,None,None], torch.FloatTensor(NORM_STD)[:,None,None]\n",
        "def patch_forward(patch):\n",
        "    # Map patch values from [-infty,infty] to ImageNet min and max\n",
        "    #patch = (torch.tanh(patch) + 1 - 2 * TENSOR_MEANS) / (2 * TENSOR_STD)\n",
        "    patch = (2.0 / 255.0) * patch - 1.0\n",
        "    return patch"
      ],
      "metadata": {
        "id": "cNl1OgGncZ2Q"
      },
      "execution_count": null,
      "outputs": []
    },
    {
      "cell_type": "markdown",
      "source": [
        "Setting the validation metrics for the patch's ability to fool a model when placed on my test images:"
      ],
      "metadata": {
        "id": "YG_cIaC5egSD"
      }
    },
    {
      "cell_type": "code",
      "source": [
        "from tqdm.notebook import tqdm\n",
        "def eval_patch(model, patch, val_loader, target_class):\n",
        "    model.eval()\n",
        "    tp, tp_3, counter = 0., 0., 0.\n",
        "    with torch.no_grad():\n",
        "        for img, img_labels in tqdm(test_loader, desc=\"Validating...\", leave=False):\n",
        "            # For stability, place the patch at 4 random locations per image, and average the performance\n",
        "            for _ in range(4):\n",
        "                patch_img = place_patch(img, patch)\n",
        "                patch_img = patch_img #.to(device)\n",
        "                img_labels = img_labels  #.to(device)\n",
        "                pred = model(patch_img)\n",
        "                # In the accuracy calculation, we need to exclude the images that are of our target class\n",
        "                # as we would not \"fool\" the model into predicting those\n",
        "                tp += torch.logical_and(pred.argmax(dim=-1) == target_class, img_labels != target_class).sum()\n",
        "                tp_3 += torch.logical_and((pred.topk(3, dim=-1)[1] == target_class).any(dim=-1), img_labels != target_class).sum()\n",
        "                counter += (img_labels != target_class).sum()\n",
        "    acc = tp/counter\n",
        "    top5 = tp_3/counter\n",
        "    return acc, top5"
      ],
      "metadata": {
        "id": "Rf_63qG-dQ5B"
      },
      "execution_count": null,
      "outputs": []
    },
    {
      "cell_type": "code",
      "source": [
        "patch = torch.load('/content/drive/MyDrive/IMGCLASSmodels/patches/sheep_64_patch.pt')\n",
        "eval_patch(model, patch, test_loader, label_names[4]['id'])"
      ],
      "metadata": {
        "colab": {
          "base_uri": "https://localhost:8080/",
          "height": 34,
          "referenced_widgets": [
            "f3856320b00f461ea7aad3f9a675b31b",
            "4d40689fbb084e6cb20b0686a7c240cb",
            "f7660c589ab2483ea45527cbf7852ace",
            "3000f6a3111d4c5bbf8d2dc2575dfb42",
            "f68389c3e15049dd956477ac8737bbe3",
            "8416dcfcc336427ca1c29f2f36b7769f",
            "542ceb73cc904711b0d8862db58be110",
            "2abd6ddc90334211afbfaf81c0a76ad3",
            "e6eff3384a96420e96ed4b529209e3cd",
            "d62f08259ed54b709a4ecb46fbb9c0eb",
            "b5c8d428a19e4ed79516545b168bb068"
          ]
        },
        "id": "-cdPyCCNzDVA",
        "outputId": "3296dfe7-14ba-431f-e4e0-da31c080a0d6"
      },
      "execution_count": null,
      "outputs": [
        {
          "data": {
            "application/vnd.jupyter.widget-view+json": {
              "model_id": "f3856320b00f461ea7aad3f9a675b31b",
              "version_major": 2,
              "version_minor": 0
            },
            "text/plain": [
              "Validating...:   0%|          | 0/18 [00:00<?, ?it/s]"
            ]
          },
          "metadata": {},
          "output_type": "display_data"
        },
        {
          "output_type": "execute_result",
          "data": {
            "text/plain": [
              "(tensor(0.9727), tensor(0.9987))"
            ]
          },
          "metadata": {},
          "execution_count": 31
        }
      ]
    },
    {
      "cell_type": "markdown",
      "source": [
        "This function will be called with get_patches; it essentially calls all the previous functions to train the patch parameter to minimise the loss function, when the loss function measures the amount of correct predictions of the target class:"
      ],
      "metadata": {
        "id": "vh0AIKkNezZG"
      }
    },
    {
      "cell_type": "code",
      "source": [
        "def patch_attack(model, target_class, patch_size=32, num_epochs=5):\n",
        "    # Leave a small set of images out to check generalization\n",
        "    # In most of our experiments, the performance on the hold-out data points\n",
        "    # was as good as on the training set. Overfitting was little possible due\n",
        "    # to the small size of the patches.\n",
        "    #train_set, val_set = torch.utils.data.random_split(dataset, [4500, 500])\n",
        "    #train_loader = data.DataLoader(train_set, batch_size=32, shuffle=True, drop_last=True, num_workers=0)\n",
        "    #val_loader = data.DataLoader(val_set, batch_size=32, shuffle=False, drop_last=False, num_workers=0)\n",
        "    train_loader = torch.utils.data.DataLoader(train_dataset, batch_size=32, shuffle=True, num_workers=2)\n",
        "    test_loader = torch.utils.data.DataLoader(test_dataset, batch_size=32, shuffle=False, num_workers=2)\n",
        "\n",
        "    # Create parameter and optimizer\n",
        "    if not isinstance(patch_size, tuple):\n",
        "        patch_size = (patch_size, patch_size)\n",
        "    patch = nn.Parameter(torch.zeros(3, patch_size[0], patch_size[1]), requires_grad=True)\n",
        "    optimizer = torch.optim.SGD([patch], lr=1e-1, momentum=0.8)\n",
        "    loss_module = nn.CrossEntropyLoss()\n",
        "\n",
        "    # Training loop\n",
        "    for epoch in range(num_epochs):\n",
        "        t = tqdm(train_loader, leave=False)\n",
        "        for img, _ in t:\n",
        "            img = place_patch(img, patch)\n",
        "            img = img #.to(device)\n",
        "            pred = model(img)\n",
        "            labels = torch.zeros(img.shape[0], dtype=torch.long).fill_(target_class)  #,device=pred.device\n",
        "            loss = loss_module(pred, labels)\n",
        "            optimizer.zero_grad()\n",
        "            loss.mean().backward()\n",
        "            optimizer.step()\n",
        "            t.set_description(f\"Epoch {epoch}, Loss: {loss.item():4.2f}\")\n",
        "\n",
        "    # Final validation\n",
        "    acc, top3 = eval_patch(model, patch, test_loader, target_class)\n",
        "\n",
        "    return patch.data, {\"acc\": acc.item(), \"top3\": top3.item()}"
      ],
      "metadata": {
        "id": "OEe0M4uofEQS"
      },
      "execution_count": null,
      "outputs": []
    },
    {
      "cell_type": "markdown",
      "source": [
        "This function, which although I personally don't use, is useful for saving the accuracy and top 3 appearances for the patch:"
      ],
      "metadata": {
        "id": "ZsZUOs2ffN3s"
      }
    },
    {
      "cell_type": "code",
      "source": [
        "import json\n",
        "# If you train new patches, you can save the results via calling this function\n",
        "def save_results(patch_dict):\n",
        "    result_dict = {cname: {psize: [t.item() if isinstance(t, torch.Tensor) else t\n",
        "                                   for t in patch_dict[cname][psize][\"results\"]]\n",
        "                           for psize in patch_dict[cname]}\n",
        "                   for cname in patch_dict}\n",
        "    with open(os.path.join(CHECKPOINT_PATH, \"patch_results.json\"), \"w\") as f:\n",
        "        json.dump(result_dict, f, indent=4)"
      ],
      "metadata": {
        "id": "_xuL3gbWgjLQ"
      },
      "execution_count": null,
      "outputs": []
    },
    {
      "cell_type": "markdown",
      "source": [
        "Label map:"
      ],
      "metadata": {
        "id": "ds70SK9AfiOH"
      }
    },
    {
      "cell_type": "code",
      "source": [
        "label_names = [{'name':'car', 'id':1}, {'name':'house', 'id':2}, {'name':'person', 'id':3}, {'name':'rock', 'id':4}, {'name':'sheep', 'id':5}, {'name':'vegetation', 'id':6}, {'name':'water', 'id':7}]"
      ],
      "metadata": {
        "id": "L-yyYkhRhjiM"
      },
      "execution_count": null,
      "outputs": []
    },
    {
      "cell_type": "code",
      "source": [
        "name = 'car'\n",
        "label_names[2]['name']"
      ],
      "metadata": {
        "colab": {
          "base_uri": "https://localhost:8080/",
          "height": 36
        },
        "id": "WmdI54UOjPdM",
        "outputId": "32a8474e-9ba3-4f12-cb82-5e3ebd772d15"
      },
      "execution_count": null,
      "outputs": [
        {
          "output_type": "execute_result",
          "data": {
            "text/plain": [
              "'person'"
            ],
            "application/vnd.google.colaboratory.intrinsic+json": {
              "type": "string"
            }
          },
          "metadata": {},
          "execution_count": 18
        }
      ]
    },
    {
      "cell_type": "markdown",
      "source": [
        "This function get_patches is what we use to trigger the entire pipeline, which uses all the previous functions in the patch-making section.\n",
        "I have to change the index number in the square brackets after 'label_names' to the location of the desired target class in the label map above:"
      ],
      "metadata": {
        "id": "ViO9KSqAfuNY"
      }
    },
    {
      "cell_type": "code",
      "source": [
        "def get_patches(class_names, patch_sizes):\n",
        "    result_dict = dict()\n",
        "\n",
        "    # Loop over all classes and patch sizes\n",
        "    for name in class_names:\n",
        "        result_dict[name] = dict()\n",
        "        for patch_size in patch_sizes:\n",
        "            #c = label_names.index(name)\n",
        "            #I have to change the index number in the square brackets after 'label_names' to the location of the desired target class in the label map above\n",
        "            c = label_names[4]['id']\n",
        "            file_name = os.path.join(CHECKPOINT_PATH, f\"NORMVALUES{name}_{patch_size}_patch.pt\")\n",
        "            # Load patch if pretrained file exists, otherwise start training\n",
        "            if not os.path.isfile(file_name):\n",
        "                patch, val_results = patch_attack(model, target_class=c, patch_size=patch_size, num_epochs=5)\n",
        "                print(f\"Validation results for {name} and {patch_size}:\", val_results)\n",
        "                torch.save(patch, file_name)\n",
        "            #else:\n",
        "            #    patch = torch.load(file_name)\n",
        "            # Load evaluation results if exist, otherwise manually evaluate the patch\n",
        "            results = eval_patch(model, patch, test_loader, target_class=c)\n",
        "            #if name in json_results:\n",
        "            #    results = json_results[name][str(patch_size)]\n",
        "            #else:\n",
        "            #    results = eval_patch(pretrained_model, patch, data_loader, target_class=c)\n",
        "\n",
        "            # Store results and the patches in a dict for better access\n",
        "            result_dict[name][patch_size] = {\n",
        "                \"results\": results,\n",
        "                \"patch\": patch\n",
        "            }\n",
        "\n",
        "    return result_dict"
      ],
      "metadata": {
        "id": "gPzuMVYTg70v"
      },
      "execution_count": null,
      "outputs": []
    },
    {
      "cell_type": "markdown",
      "source": [
        "Make sure to un-hash the last two lines to get the patch."
      ],
      "metadata": {
        "id": "BESSy-rAgJHI"
      }
    },
    {
      "cell_type": "code",
      "source": [
        "class_names = ['sheep']\n",
        "patch_sizes = [32]\n",
        "\n",
        "#patch_dict = get_patches(class_names, patch_sizes)\n",
        "#save_results(patch_dict) # Uncomment if you add new class names and want to save the new results"
      ],
      "metadata": {
        "id": "rsB7z4rdimUL"
      },
      "execution_count": null,
      "outputs": []
    },
    {
      "cell_type": "markdown",
      "source": [
        "\"person\": {\n",
        "        \"64\": [\n",
        "            0.9841188788414001,\n",
        "            1.0\n",
        "<br>\"person\": {\n",
        "        \"32\": [\n",
        "            0.9654869654341219,\n",
        "            0.9865392736112432\n",
        "<br>Validation results for car and 32: {'acc': 0.8433544039726257, 'top3': 0.9883966445922852}\n",
        "<br>Validation results for car and 64: {'acc': 0.9514768123626709, 'top3': 0.9973628520965576}\n",
        "<br>Validation results for car and 100: {'acc': 0.9852320551872253, 'top3': 1.0}\n",
        "<br>Validation results for sheep and 64: {'acc':0.9727, 'top3': 0.9987}\n",
        "<br>Validation results for NORMcar and 32: {'acc': 0.8111814260482788, 'top3': 0.9926160573959351}\n",
        "<br>Validation results for NORMsheep and 32: {'acc': 0.9127604365348816, 'top3': 0.9954426884651184}"
      ],
      "metadata": {
        "id": "w8Wc4EHeu_9S"
      }
    },
    {
      "cell_type": "markdown",
      "source": [
        "The following cell was not necessary for my pipeline:"
      ],
      "metadata": {
        "id": "-fjjYYWvhe6S"
      }
    },
    {
      "cell_type": "code",
      "source": [
        "def show_patches():\n",
        "    # fig, ax = plt.subplots(len(patch_sizes), len(class_names), figsize=(len(class_names)*2.2, len(patch_sizes)*2.2))\n",
        "    for c_idx, cname in enumerate(class_names):\n",
        "        for p_idx, psize in enumerate(patch_sizes):\n",
        "            patch = patch_dict[cname][psize][\"patch\"]\n",
        "\n",
        "            patch = (torch.tanh(patch) + 1) / 2 # Parameter to pixel values\n",
        "\n",
        "            patch = patch.cpu().permute(1, 2, 0).numpy()\n",
        "            patch = np.clip(patch, a_min=0.0, a_max=1.0)\n",
        "            # print(patch)\n",
        "            # plt.figure(dpi=150)\n",
        "            print(patch.shape)\n",
        "            # patch = np.ascontiguousarray(patch.transpose(1,0,2))\n",
        "            # np.reshape(patch, (64, 64))\n",
        "            print(patch.shape)\n",
        "            # img = im.fromarray(patch.astype('uint8'), 'RGB')\n",
        "            plt.imsave(DATASET_PATH+\"/\"+str(p_idx)+str(psize)+cname+\".png\", patch, cmap='Greys')\n",
        "            # data = im.fromarray(patch)\n",
        "\n",
        "            # saving the final output\n",
        "            # as a PNG file\n",
        "            # img.save(DATASET_PATH+\"/PIL_\"+str(p_idx)+str(psize)+cname+\".png\")\n",
        "            # plt.imshow(patch, interpolation='nearest')\n",
        "            # plt.savefig(DATASET_PATH+\"/MTPLTL_\"+str(p_idx)+str(psize)+cname+\".png\")\n",
        "            # ax[p_idx][c_idx].imshow(patch)\n",
        "            # ax[p_idx][c_idx].set_title(f\"{cname}, size {psize}\")\n",
        "            # ax[p_idx][c_idx].axis('off')\n",
        "    # fig.subplots_adjust(hspace=0.3, wspace=0.3)\n",
        "\n",
        "    # plt.show()\n",
        "show_patches()"
      ],
      "metadata": {
        "id": "vX_hQ8amyXD4"
      },
      "execution_count": null,
      "outputs": []
    },
    {
      "cell_type": "markdown",
      "source": [
        "Load the patch as the .pt file, otherwise the file will not be recognised by the show_patches function:"
      ],
      "metadata": {
        "id": "0c6I1Q7zhL4C"
      }
    },
    {
      "cell_type": "code",
      "source": [
        "patch_dict = torch.load('/content/drive/MyDrive/IMGCLASSmodels/patches/sheep_64_patch.pt')\n",
        "#patch_dict = open('/content/drive/MyDrive/IMGCLASSmodels/patches/patch_results.json')"
      ],
      "metadata": {
        "id": "J_hdg6BHy7ig"
      },
      "execution_count": null,
      "outputs": []
    },
    {
      "cell_type": "markdown",
      "source": [
        "Commented out all the '.device' code as I am working with a built-in CPU backend on Colab:"
      ],
      "metadata": {
        "id": "fg8vFaMQgvp2"
      }
    },
    {
      "cell_type": "code",
      "source": [
        "def show_patches():\n",
        "    fig, ax = plt.subplots(len(patch_sizes), len(class_names), figsize=(len(class_names)*3, len(patch_sizes)*3))\n",
        "    for c_idx, cname in enumerate(class_names):\n",
        "        for p_idx, psize in enumerate(patch_sizes):\n",
        "            print(cname, psize, \"patch\")\n",
        "            patch = patch_dict   #[cname][psize][\"patch\"].readlines()\n",
        "            patch = (torch.tanh(patch) + 1) / 2 # Parameter to pixel values\n",
        "            #patch = (2.0 / 255.0) * patch - 1.0\n",
        "            #patch = (patch + 1) / 2\n",
        "            patch = patch.permute(1, 2, 0).numpy() ##.cpu()\n",
        "            #patch = np.clip(patch, a_min=0.0, a_max=1.0)\n",
        "            ax.imshow(patch, aspect='auto')   #[p_idx][c_idx]\n",
        "            #ax.set_title(f\"{cname}, size {psize}\")   #[p_idx][c_idx]\n",
        "            ax.axis('off')    #[p_idx][c_idx]\n",
        "    #fig.subplots_adjust(hspace=0.3, wspace=0.3)\n",
        "    plt.tight_layout()\n",
        "    plt.show()\n",
        "show_patches()"
      ],
      "metadata": {
        "colab": {
          "base_uri": "https://localhost:8080/",
          "height": 324
        },
        "id": "94htN0f1ytnY",
        "outputId": "2e4c2e37-29a8-4be1-aa91-adf02fe1d7dd"
      },
      "execution_count": null,
      "outputs": [
        {
          "output_type": "stream",
          "name": "stdout",
          "text": [
            "sheep 32 patch\n"
          ]
        },
        {
          "output_type": "display_data",
          "data": {
            "text/plain": [
              "<Figure size 300x300 with 1 Axes>"
            ],
            "image/png": "[encoded data removed]"
          },
          "metadata": {}
        }
      ]
    },
    {
      "cell_type": "code",
      "source": [
        "def perform_patch_attack(patch):\n",
        "    patch_batch = exmp_batch.clone()\n",
        "    patch_batch = place_patch(patch_batch, patch)\n",
        "    with torch.no_grad():\n",
        "        patch_preds = pretrained_model(patch_batch.to(device))\n",
        "    for i in range(1,17,5):\n",
        "        show_prediction(patch_batch[i], label_batch[i], patch_preds[i])"
      ],
      "metadata": {
        "id": "oF0vHNQ6B2U5"
      },
      "execution_count": null,
      "outputs": []
    },
    {
      "cell_type": "markdown",
      "source": [
        "# Extra"
      ],
      "metadata": {
        "id": "CikR_zCndRls"
      }
    },
    {
      "cell_type": "code",
      "source": [
        "for epoch in range(num_epochs):\n",
        "    for batch_idx, (data, targets) in enumerate(train_loader):\n",
        "        optimizer.zero_grad()\n",
        "        outputs = model(data)\n",
        "        loss = custom_loss(outputs, targets)\n",
        "        loss.backward()\n",
        "        optimizer.step()"
      ],
      "metadata": {
        "id": "cs2Y_Kkkz-bb"
      },
      "execution_count": null,
      "outputs": []
    },
    {
      "cell_type": "code",
      "source": [
        "#class CustomClassifier(nn.Module):\n",
        "#    def __init__(self, num_classes):\n",
        "#        super(CustomClassifier, self).__init__()\n",
        "#        self.avgpool = nn.AdaptiveAvgPool2d(1)\n",
        "#        self.fc = nn.Linear(1280, num_classes)  # MobileNetV2's feature size is 1280\n",
        "#\n",
        "#    def forward(self, x):\n",
        "#        x = self.avgpool(x)\n",
        "#        x = torch.flatten(x, 1)\n",
        "#        x = self.fc(x)\n",
        "#        return x"
      ],
      "metadata": {
        "id": "WFGvpRqKhq1s"
      },
      "execution_count": null,
      "outputs": []
    },
    {
      "cell_type": "code",
      "source": [
        "num_classes = 7 # my number of classes"
      ],
      "metadata": {
        "id": "z8Gn0Vmrh5Y8"
      },
      "execution_count": null,
      "outputs": []
    },
    {
      "cell_type": "code",
      "source": [
        "complete_model = nn.Sequential(\n",
        "    features,\n",
        "    CustomClassifier(num_classes)\n",
        ")"
      ],
      "metadata": {
        "id": "S5XXNH0Mh__N"
      },
      "execution_count": null,
      "outputs": []
    },
    {
      "cell_type": "code",
      "source": [
        "device = torch.device('cuda' if torch.cuda.is_available() else 'cpu')\n",
        "complete_model.to(device)"
      ],
      "metadata": {
        "colab": {
          "base_uri": "https://localhost:8080/"
        },
        "id": "-HAK4ynsiS1J",
        "outputId": "2e5839cd-0509-48e3-d1c1-87ed7ea07afd"
      },
      "execution_count": null,
      "outputs": [
        {
          "output_type": "execute_result",
          "data": {
            "text/plain": [
              "Sequential(\n",
              "  (0): Sequential(\n",
              "    (0): Conv2dNormActivation(\n",
              "      (0): Conv2d(3, 32, kernel_size=(3, 3), stride=(2, 2), padding=(1, 1), bias=False)\n",
              "      (1): BatchNorm2d(32, eps=1e-05, momentum=0.1, affine=True, track_running_stats=True)\n",
              "      (2): ReLU6(inplace=True)\n",
              "    )\n",
              "    (1): InvertedResidual(\n",
              "      (conv): Sequential(\n",
              "        (0): Conv2dNormActivation(\n",
              "          (0): Conv2d(32, 32, kernel_size=(3, 3), stride=(1, 1), padding=(1, 1), groups=32, bias=False)\n",
              "          (1): BatchNorm2d(32, eps=1e-05, momentum=0.1, affine=True, track_running_stats=True)\n",
              "          (2): ReLU6(inplace=True)\n",
              "        )\n",
              "        (1): Conv2d(32, 16, kernel_size=(1, 1), stride=(1, 1), bias=False)\n",
              "        (2): BatchNorm2d(16, eps=1e-05, momentum=0.1, affine=True, track_running_stats=True)\n",
              "      )\n",
              "    )\n",
              "    (2): InvertedResidual(\n",
              "      (conv): Sequential(\n",
              "        (0): Conv2dNormActivation(\n",
              "          (0): Conv2d(16, 96, kernel_size=(1, 1), stride=(1, 1), bias=False)\n",
              "          (1): BatchNorm2d(96, eps=1e-05, momentum=0.1, affine=True, track_running_stats=True)\n",
              "          (2): ReLU6(inplace=True)\n",
              "        )\n",
              "        (1): Conv2dNormActivation(\n",
              "          (0): Conv2d(96, 96, kernel_size=(3, 3), stride=(2, 2), padding=(1, 1), groups=96, bias=False)\n",
              "          (1): BatchNorm2d(96, eps=1e-05, momentum=0.1, affine=True, track_running_stats=True)\n",
              "          (2): ReLU6(inplace=True)\n",
              "        )\n",
              "        (2): Conv2d(96, 24, kernel_size=(1, 1), stride=(1, 1), bias=False)\n",
              "        (3): BatchNorm2d(24, eps=1e-05, momentum=0.1, affine=True, track_running_stats=True)\n",
              "      )\n",
              "    )\n",
              "    (3): InvertedResidual(\n",
              "      (conv): Sequential(\n",
              "        (0): Conv2dNormActivation(\n",
              "          (0): Conv2d(24, 144, kernel_size=(1, 1), stride=(1, 1), bias=False)\n",
              "          (1): BatchNorm2d(144, eps=1e-05, momentum=0.1, affine=True, track_running_stats=True)\n",
              "          (2): ReLU6(inplace=True)\n",
              "        )\n",
              "        (1): Conv2dNormActivation(\n",
              "          (0): Conv2d(144, 144, kernel_size=(3, 3), stride=(1, 1), padding=(1, 1), groups=144, bias=False)\n",
              "          (1): BatchNorm2d(144, eps=1e-05, momentum=0.1, affine=True, track_running_stats=True)\n",
              "          (2): ReLU6(inplace=True)\n",
              "        )\n",
              "        (2): Conv2d(144, 24, kernel_size=(1, 1), stride=(1, 1), bias=False)\n",
              "        (3): BatchNorm2d(24, eps=1e-05, momentum=0.1, affine=True, track_running_stats=True)\n",
              "      )\n",
              "    )\n",
              "    (4): InvertedResidual(\n",
              "      (conv): Sequential(\n",
              "        (0): Conv2dNormActivation(\n",
              "          (0): Conv2d(24, 144, kernel_size=(1, 1), stride=(1, 1), bias=False)\n",
              "          (1): BatchNorm2d(144, eps=1e-05, momentum=0.1, affine=True, track_running_stats=True)\n",
              "          (2): ReLU6(inplace=True)\n",
              "        )\n",
              "        (1): Conv2dNormActivation(\n",
              "          (0): Conv2d(144, 144, kernel_size=(3, 3), stride=(2, 2), padding=(1, 1), groups=144, bias=False)\n",
              "          (1): BatchNorm2d(144, eps=1e-05, momentum=0.1, affine=True, track_running_stats=True)\n",
              "          (2): ReLU6(inplace=True)\n",
              "        )\n",
              "        (2): Conv2d(144, 32, kernel_size=(1, 1), stride=(1, 1), bias=False)\n",
              "        (3): BatchNorm2d(32, eps=1e-05, momentum=0.1, affine=True, track_running_stats=True)\n",
              "      )\n",
              "    )\n",
              "    (5): InvertedResidual(\n",
              "      (conv): Sequential(\n",
              "        (0): Conv2dNormActivation(\n",
              "          (0): Conv2d(32, 192, kernel_size=(1, 1), stride=(1, 1), bias=False)\n",
              "          (1): BatchNorm2d(192, eps=1e-05, momentum=0.1, affine=True, track_running_stats=True)\n",
              "          (2): ReLU6(inplace=True)\n",
              "        )\n",
              "        (1): Conv2dNormActivation(\n",
              "          (0): Conv2d(192, 192, kernel_size=(3, 3), stride=(1, 1), padding=(1, 1), groups=192, bias=False)\n",
              "          (1): BatchNorm2d(192, eps=1e-05, momentum=0.1, affine=True, track_running_stats=True)\n",
              "          (2): ReLU6(inplace=True)\n",
              "        )\n",
              "        (2): Conv2d(192, 32, kernel_size=(1, 1), stride=(1, 1), bias=False)\n",
              "        (3): BatchNorm2d(32, eps=1e-05, momentum=0.1, affine=True, track_running_stats=True)\n",
              "      )\n",
              "    )\n",
              "    (6): InvertedResidual(\n",
              "      (conv): Sequential(\n",
              "        (0): Conv2dNormActivation(\n",
              "          (0): Conv2d(32, 192, kernel_size=(1, 1), stride=(1, 1), bias=False)\n",
              "          (1): BatchNorm2d(192, eps=1e-05, momentum=0.1, affine=True, track_running_stats=True)\n",
              "          (2): ReLU6(inplace=True)\n",
              "        )\n",
              "        (1): Conv2dNormActivation(\n",
              "          (0): Conv2d(192, 192, kernel_size=(3, 3), stride=(1, 1), padding=(1, 1), groups=192, bias=False)\n",
              "          (1): BatchNorm2d(192, eps=1e-05, momentum=0.1, affine=True, track_running_stats=True)\n",
              "          (2): ReLU6(inplace=True)\n",
              "        )\n",
              "        (2): Conv2d(192, 32, kernel_size=(1, 1), stride=(1, 1), bias=False)\n",
              "        (3): BatchNorm2d(32, eps=1e-05, momentum=0.1, affine=True, track_running_stats=True)\n",
              "      )\n",
              "    )\n",
              "    (7): InvertedResidual(\n",
              "      (conv): Sequential(\n",
              "        (0): Conv2dNormActivation(\n",
              "          (0): Conv2d(32, 192, kernel_size=(1, 1), stride=(1, 1), bias=False)\n",
              "          (1): BatchNorm2d(192, eps=1e-05, momentum=0.1, affine=True, track_running_stats=True)\n",
              "          (2): ReLU6(inplace=True)\n",
              "        )\n",
              "        (1): Conv2dNormActivation(\n",
              "          (0): Conv2d(192, 192, kernel_size=(3, 3), stride=(2, 2), padding=(1, 1), groups=192, bias=False)\n",
              "          (1): BatchNorm2d(192, eps=1e-05, momentum=0.1, affine=True, track_running_stats=True)\n",
              "          (2): ReLU6(inplace=True)\n",
              "        )\n",
              "        (2): Conv2d(192, 64, kernel_size=(1, 1), stride=(1, 1), bias=False)\n",
              "        (3): BatchNorm2d(64, eps=1e-05, momentum=0.1, affine=True, track_running_stats=True)\n",
              "      )\n",
              "    )\n",
              "    (8): InvertedResidual(\n",
              "      (conv): Sequential(\n",
              "        (0): Conv2dNormActivation(\n",
              "          (0): Conv2d(64, 384, kernel_size=(1, 1), stride=(1, 1), bias=False)\n",
              "          (1): BatchNorm2d(384, eps=1e-05, momentum=0.1, affine=True, track_running_stats=True)\n",
              "          (2): ReLU6(inplace=True)\n",
              "        )\n",
              "        (1): Conv2dNormActivation(\n",
              "          (0): Conv2d(384, 384, kernel_size=(3, 3), stride=(1, 1), padding=(1, 1), groups=384, bias=False)\n",
              "          (1): BatchNorm2d(384, eps=1e-05, momentum=0.1, affine=True, track_running_stats=True)\n",
              "          (2): ReLU6(inplace=True)\n",
              "        )\n",
              "        (2): Conv2d(384, 64, kernel_size=(1, 1), stride=(1, 1), bias=False)\n",
              "        (3): BatchNorm2d(64, eps=1e-05, momentum=0.1, affine=True, track_running_stats=True)\n",
              "      )\n",
              "    )\n",
              "    (9): InvertedResidual(\n",
              "      (conv): Sequential(\n",
              "        (0): Conv2dNormActivation(\n",
              "          (0): Conv2d(64, 384, kernel_size=(1, 1), stride=(1, 1), bias=False)\n",
              "          (1): BatchNorm2d(384, eps=1e-05, momentum=0.1, affine=True, track_running_stats=True)\n",
              "          (2): ReLU6(inplace=True)\n",
              "        )\n",
              "        (1): Conv2dNormActivation(\n",
              "          (0): Conv2d(384, 384, kernel_size=(3, 3), stride=(1, 1), padding=(1, 1), groups=384, bias=False)\n",
              "          (1): BatchNorm2d(384, eps=1e-05, momentum=0.1, affine=True, track_running_stats=True)\n",
              "          (2): ReLU6(inplace=True)\n",
              "        )\n",
              "        (2): Conv2d(384, 64, kernel_size=(1, 1), stride=(1, 1), bias=False)\n",
              "        (3): BatchNorm2d(64, eps=1e-05, momentum=0.1, affine=True, track_running_stats=True)\n",
              "      )\n",
              "    )\n",
              "    (10): InvertedResidual(\n",
              "      (conv): Sequential(\n",
              "        (0): Conv2dNormActivation(\n",
              "          (0): Conv2d(64, 384, kernel_size=(1, 1), stride=(1, 1), bias=False)\n",
              "          (1): BatchNorm2d(384, eps=1e-05, momentum=0.1, affine=True, track_running_stats=True)\n",
              "          (2): ReLU6(inplace=True)\n",
              "        )\n",
              "        (1): Conv2dNormActivation(\n",
              "          (0): Conv2d(384, 384, kernel_size=(3, 3), stride=(1, 1), padding=(1, 1), groups=384, bias=False)\n",
              "          (1): BatchNorm2d(384, eps=1e-05, momentum=0.1, affine=True, track_running_stats=True)\n",
              "          (2): ReLU6(inplace=True)\n",
              "        )\n",
              "        (2): Conv2d(384, 64, kernel_size=(1, 1), stride=(1, 1), bias=False)\n",
              "        (3): BatchNorm2d(64, eps=1e-05, momentum=0.1, affine=True, track_running_stats=True)\n",
              "      )\n",
              "    )\n",
              "    (11): InvertedResidual(\n",
              "      (conv): Sequential(\n",
              "        (0): Conv2dNormActivation(\n",
              "          (0): Conv2d(64, 384, kernel_size=(1, 1), stride=(1, 1), bias=False)\n",
              "          (1): BatchNorm2d(384, eps=1e-05, momentum=0.1, affine=True, track_running_stats=True)\n",
              "          (2): ReLU6(inplace=True)\n",
              "        )\n",
              "        (1): Conv2dNormActivation(\n",
              "          (0): Conv2d(384, 384, kernel_size=(3, 3), stride=(1, 1), padding=(1, 1), groups=384, bias=False)\n",
              "          (1): BatchNorm2d(384, eps=1e-05, momentum=0.1, affine=True, track_running_stats=True)\n",
              "          (2): ReLU6(inplace=True)\n",
              "        )\n",
              "        (2): Conv2d(384, 96, kernel_size=(1, 1), stride=(1, 1), bias=False)\n",
              "        (3): BatchNorm2d(96, eps=1e-05, momentum=0.1, affine=True, track_running_stats=True)\n",
              "      )\n",
              "    )\n",
              "    (12): InvertedResidual(\n",
              "      (conv): Sequential(\n",
              "        (0): Conv2dNormActivation(\n",
              "          (0): Conv2d(96, 576, kernel_size=(1, 1), stride=(1, 1), bias=False)\n",
              "          (1): BatchNorm2d(576, eps=1e-05, momentum=0.1, affine=True, track_running_stats=True)\n",
              "          (2): ReLU6(inplace=True)\n",
              "        )\n",
              "        (1): Conv2dNormActivation(\n",
              "          (0): Conv2d(576, 576, kernel_size=(3, 3), stride=(1, 1), padding=(1, 1), groups=576, bias=False)\n",
              "          (1): BatchNorm2d(576, eps=1e-05, momentum=0.1, affine=True, track_running_stats=True)\n",
              "          (2): ReLU6(inplace=True)\n",
              "        )\n",
              "        (2): Conv2d(576, 96, kernel_size=(1, 1), stride=(1, 1), bias=False)\n",
              "        (3): BatchNorm2d(96, eps=1e-05, momentum=0.1, affine=True, track_running_stats=True)\n",
              "      )\n",
              "    )\n",
              "    (13): InvertedResidual(\n",
              "      (conv): Sequential(\n",
              "        (0): Conv2dNormActivation(\n",
              "          (0): Conv2d(96, 576, kernel_size=(1, 1), stride=(1, 1), bias=False)\n",
              "          (1): BatchNorm2d(576, eps=1e-05, momentum=0.1, affine=True, track_running_stats=True)\n",
              "          (2): ReLU6(inplace=True)\n",
              "        )\n",
              "        (1): Conv2dNormActivation(\n",
              "          (0): Conv2d(576, 576, kernel_size=(3, 3), stride=(1, 1), padding=(1, 1), groups=576, bias=False)\n",
              "          (1): BatchNorm2d(576, eps=1e-05, momentum=0.1, affine=True, track_running_stats=True)\n",
              "          (2): ReLU6(inplace=True)\n",
              "        )\n",
              "        (2): Conv2d(576, 96, kernel_size=(1, 1), stride=(1, 1), bias=False)\n",
              "        (3): BatchNorm2d(96, eps=1e-05, momentum=0.1, affine=True, track_running_stats=True)\n",
              "      )\n",
              "    )\n",
              "    (14): InvertedResidual(\n",
              "      (conv): Sequential(\n",
              "        (0): Conv2dNormActivation(\n",
              "          (0): Conv2d(96, 576, kernel_size=(1, 1), stride=(1, 1), bias=False)\n",
              "          (1): BatchNorm2d(576, eps=1e-05, momentum=0.1, affine=True, track_running_stats=True)\n",
              "          (2): ReLU6(inplace=True)\n",
              "        )\n",
              "        (1): Conv2dNormActivation(\n",
              "          (0): Conv2d(576, 576, kernel_size=(3, 3), stride=(2, 2), padding=(1, 1), groups=576, bias=False)\n",
              "          (1): BatchNorm2d(576, eps=1e-05, momentum=0.1, affine=True, track_running_stats=True)\n",
              "          (2): ReLU6(inplace=True)\n",
              "        )\n",
              "        (2): Conv2d(576, 160, kernel_size=(1, 1), stride=(1, 1), bias=False)\n",
              "        (3): BatchNorm2d(160, eps=1e-05, momentum=0.1, affine=True, track_running_stats=True)\n",
              "      )\n",
              "    )\n",
              "    (15): InvertedResidual(\n",
              "      (conv): Sequential(\n",
              "        (0): Conv2dNormActivation(\n",
              "          (0): Conv2d(160, 960, kernel_size=(1, 1), stride=(1, 1), bias=False)\n",
              "          (1): BatchNorm2d(960, eps=1e-05, momentum=0.1, affine=True, track_running_stats=True)\n",
              "          (2): ReLU6(inplace=True)\n",
              "        )\n",
              "        (1): Conv2dNormActivation(\n",
              "          (0): Conv2d(960, 960, kernel_size=(3, 3), stride=(1, 1), padding=(1, 1), groups=960, bias=False)\n",
              "          (1): BatchNorm2d(960, eps=1e-05, momentum=0.1, affine=True, track_running_stats=True)\n",
              "          (2): ReLU6(inplace=True)\n",
              "        )\n",
              "        (2): Conv2d(960, 160, kernel_size=(1, 1), stride=(1, 1), bias=False)\n",
              "        (3): BatchNorm2d(160, eps=1e-05, momentum=0.1, affine=True, track_running_stats=True)\n",
              "      )\n",
              "    )\n",
              "    (16): InvertedResidual(\n",
              "      (conv): Sequential(\n",
              "        (0): Conv2dNormActivation(\n",
              "          (0): Conv2d(160, 960, kernel_size=(1, 1), stride=(1, 1), bias=False)\n",
              "          (1): BatchNorm2d(960, eps=1e-05, momentum=0.1, affine=True, track_running_stats=True)\n",
              "          (2): ReLU6(inplace=True)\n",
              "        )\n",
              "        (1): Conv2dNormActivation(\n",
              "          (0): Conv2d(960, 960, kernel_size=(3, 3), stride=(1, 1), padding=(1, 1), groups=960, bias=False)\n",
              "          (1): BatchNorm2d(960, eps=1e-05, momentum=0.1, affine=True, track_running_stats=True)\n",
              "          (2): ReLU6(inplace=True)\n",
              "        )\n",
              "        (2): Conv2d(960, 160, kernel_size=(1, 1), stride=(1, 1), bias=False)\n",
              "        (3): BatchNorm2d(160, eps=1e-05, momentum=0.1, affine=True, track_running_stats=True)\n",
              "      )\n",
              "    )\n",
              "    (17): InvertedResidual(\n",
              "      (conv): Sequential(\n",
              "        (0): Conv2dNormActivation(\n",
              "          (0): Conv2d(160, 960, kernel_size=(1, 1), stride=(1, 1), bias=False)\n",
              "          (1): BatchNorm2d(960, eps=1e-05, momentum=0.1, affine=True, track_running_stats=True)\n",
              "          (2): ReLU6(inplace=True)\n",
              "        )\n",
              "        (1): Conv2dNormActivation(\n",
              "          (0): Conv2d(960, 960, kernel_size=(3, 3), stride=(1, 1), padding=(1, 1), groups=960, bias=False)\n",
              "          (1): BatchNorm2d(960, eps=1e-05, momentum=0.1, affine=True, track_running_stats=True)\n",
              "          (2): ReLU6(inplace=True)\n",
              "        )\n",
              "        (2): Conv2d(960, 320, kernel_size=(1, 1), stride=(1, 1), bias=False)\n",
              "        (3): BatchNorm2d(320, eps=1e-05, momentum=0.1, affine=True, track_running_stats=True)\n",
              "      )\n",
              "    )\n",
              "    (18): Conv2dNormActivation(\n",
              "      (0): Conv2d(320, 1280, kernel_size=(1, 1), stride=(1, 1), bias=False)\n",
              "      (1): BatchNorm2d(1280, eps=1e-05, momentum=0.1, affine=True, track_running_stats=True)\n",
              "      (2): ReLU6(inplace=True)\n",
              "    )\n",
              "  )\n",
              "  (1): CustomClassifier(\n",
              "    (avgpool): AdaptiveAvgPool2d(output_size=1)\n",
              "    (fc): Linear(in_features=1280, out_features=7, bias=True)\n",
              "  )\n",
              ")"
            ]
          },
          "metadata": {},
          "execution_count": 7
        }
      ]
    }
  ]
}
