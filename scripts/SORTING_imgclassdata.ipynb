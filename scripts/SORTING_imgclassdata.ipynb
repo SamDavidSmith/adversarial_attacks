{
  "nbformat": 4,
  "nbformat_minor": 0,
  "metadata": {
    "colab": {
      "provenance": []
    },
    "kernelspec": {
      "name": "python3",
      "display_name": "Python 3"
    },
    "language_info": {
      "name": "python"
    }
  },
  "cells": [
    {
      "cell_type": "code",
      "execution_count": null,
      "metadata": {
        "id": "uF34NHWY0d1B"
      },
      "outputs": [],
      "source": [
        "import zipfile\n",
        "import os\n",
        "import random\n",
        "import shutil\n",
        "from PIL import Image"
      ]
    },
    {
      "cell_type": "code",
      "source": [
        "zip_file_path = \"/content/drive/MyDrive/SHEEPS_TOPDOWN.zip\"\n",
        "output_folder = \"/content/drive/MyDrive/TOPDOWN_ANNOTATED/TOPDOWN_IMGS\"\n",
        "if not os.path.exists(output_folder):\n",
        "  os.makedirs(output_folder)"
      ],
      "metadata": {
        "id": "opYHKltU1aaT"
      },
      "execution_count": null,
      "outputs": []
    },
    {
      "cell_type": "code",
      "source": [
        "with zipfile.ZipFile(zip_file_path, 'r') as zip_ref:\n",
        "  zip_ref.extractall(output_folder)"
      ],
      "metadata": {
        "id": "CY2W7kQU1BeL"
      },
      "execution_count": null,
      "outputs": []
    },
    {
      "cell_type": "code",
      "source": [
        "files = ['CARS_TOPDOWN', 'HOUSES_TOPDOWN', 'PEOPLE_TOPDOWN', 'ROCK_TOPDOWN', 'SHEEPS_TOPDOWN', 'TREES_TOPDOWN', 'WATER_TOPDOWN']"
      ],
      "metadata": {
        "id": "EPGVl9jHHe06"
      },
      "execution_count": null,
      "outputs": []
    },
    {
      "cell_type": "code",
      "source": [
        "labels = ['car', 'house', 'people', 'rock', 'sheep', 'tree', 'water']"
      ],
      "metadata": {
        "id": "cCilaGtMISgq"
      },
      "execution_count": null,
      "outputs": []
    },
    {
      "cell_type": "code",
      "source": [
        "source_folder = '/content/drive/MyDrive/TOPDOWN_ANOTHERTRAINTEST'\n",
        "backup_folder = '/content/drive/MyDrive/Diss_Backups/TOPDOWN_TRAINTESTBACKUPS'\n",
        "\n",
        "# Create a backup by copying the entire folder\n",
        "shutil.copytree(source_folder, backup_folder)"
      ],
      "metadata": {
        "colab": {
          "base_uri": "https://localhost:8080/",
          "height": 36
        },
        "id": "ySnYVLjCI6Iq",
        "outputId": "159bac49-a55a-4c03-f546-b3f668c95e33"
      },
      "execution_count": null,
      "outputs": [
        {
          "output_type": "execute_result",
          "data": {
            "text/plain": [
              "'/content/drive/MyDrive/Diss_Backups/TOPDOWN_TRAINTESTBACKUPS'"
            ],
            "application/vnd.google.colaboratory.intrinsic+json": {
              "type": "string"
            }
          },
          "metadata": {},
          "execution_count": 30
        }
      ]
    },
    {
      "cell_type": "code",
      "source": [
        "len(os.listdir('/content/drive/MyDrive/TOPDOWN_ANNOTATED/TOPDOWN_IMGS/HOUSES_TOPDOWN'))"
      ],
      "metadata": {
        "colab": {
          "base_uri": "https://localhost:8080/"
        },
        "id": "hRr2McOZJTPy",
        "outputId": "28151696-5309-4506-d3c2-7da34b40bd9e"
      },
      "execution_count": null,
      "outputs": [
        {
          "output_type": "execute_result",
          "data": {
            "text/plain": [
              "130"
            ]
          },
          "metadata": {},
          "execution_count": 18
        }
      ]
    },
    {
      "cell_type": "markdown",
      "source": [
        "Splitting the set of annotated images:"
      ],
      "metadata": {
        "id": "7_wuyXLz8Ew2"
      }
    },
    {
      "cell_type": "code",
      "source": [
        "data_dir = \"/content/drive/MyDrive/TOPDOWN_ANNOTATED/TOPDOWN_IMGS\"\n",
        "output_dir = \"/content/drive/MyDrive/TOPDOWN_ANOTHERTRAINTEST\"\n",
        "labels = ['CARS', 'HOUSES', 'PEOPLE', 'ROCK', 'SHEEPS', 'TREES', 'WATER']\n",
        "image_extensions = ['.jpg', '.jpeg', '.png', '.webp']\n",
        "split_ratio = 0.8  # 80% for training, 20% for testing\n",
        "\n",
        "train_dir = os.path.join(output_dir, 'train')\n",
        "test_dir = os.path.join(output_dir, 'test')\n",
        "\n",
        "os.makedirs(train_dir, exist_ok=True)\n",
        "os.makedirs(test_dir, exist_ok=True)\n",
        "\n",
        "#for filename in files:\n",
        "#  image_path = os.path.join('/content/drive/MyDrive/TOPDOWN_ANNOTATED/TOPDOWN_IMGS', filename)\n",
        "#  for image in os.listdir(image_path):\n",
        "#    train_len = train_percent * len(os.listdir(image_path))"
      ],
      "metadata": {
        "id": "H3uii7DMHbzT"
      },
      "execution_count": null,
      "outputs": []
    },
    {
      "cell_type": "code",
      "source": [
        "for label in labels:\n",
        "  label_dir = os.path.join(data_dir, label + '_TOPDOWN')\n",
        "  files = os.listdir(label_dir)\n",
        "  image_files = [file for file in files if any(file.lower().endswith(ext) for ext in image_extensions)]\n",
        "  random.shuffle(image_files)\n",
        "\n",
        "  split_index = int(len(image_files) * split_ratio)\n",
        "  train_image_files = image_files[:split_index]\n",
        "  test_image_files = image_files[split_index:]\n",
        "\n",
        "  for file in train_image_files:\n",
        "    src_image_path = os.path.join(label_dir, file)\n",
        "    src_xml_path = os.path.join(label_dir, file.replace(os.path.splitext(file)[1], '.xml'))\n",
        "\n",
        "    # Check if the corresponding XML file exists\n",
        "    if os.path.exists(src_xml_path):\n",
        "      dst_image_path = os.path.join(train_dir, file)\n",
        "      dst_xml_path = os.path.join(train_dir, file.replace(os.path.splitext(file)[1], '.xml'))\n",
        "\n",
        "      # Open the image, remove alpha channel from PNG, and save as JPEG\n",
        "      img = Image.open(src_image_path)\n",
        "      if img.mode == 'RGBA':\n",
        "        img = img.convert('RGB')\n",
        "      img = img.convert('RGB')\n",
        "      img.save(dst_image_path.replace(os.path.splitext(file)[1], '.jpg'), format='JPEG')\n",
        "\n",
        "      # Copy the XML file\n",
        "      shutil.copy(src_xml_path, dst_xml_path)\n",
        "\n",
        "  for file in test_image_files:\n",
        "    src_image_path = os.path.join(label_dir, file)\n",
        "    src_xml_path = os.path.join(label_dir, file.replace(os.path.splitext(file)[1], '.xml'))\n",
        "\n",
        "    # Check if the corresponding XML file exists\n",
        "    if os.path.exists(src_xml_path):\n",
        "      dst_image_path = os.path.join(test_dir, file)\n",
        "      dst_xml_path = os.path.join(test_dir, file.replace(os.path.splitext(file)[1], '.xml'))\n",
        "\n",
        "      # Open the image, remove alpha channel from PNG, and save as JPEG\n",
        "      img = Image.open(src_image_path)\n",
        "      if img.mode == 'RGBA':\n",
        "        img = img.convert('RGB')\n",
        "      img = img.convert('RGB')\n",
        "      img.save(dst_image_path.replace(os.path.splitext(file)[1], '.jpg'), format='JPEG')\n",
        "\n",
        "      # Copy the XML file\n",
        "      shutil.copy(src_xml_path, dst_xml_path)"
      ],
      "metadata": {
        "id": "oAe6-7_MKeYQ"
      },
      "execution_count": null,
      "outputs": []
    },
    {
      "cell_type": "code",
      "source": [
        "for folder in os.listdir('/content/drive/MyDrive/TOPDOWN_ANOTHERTRAINTEST'):\n",
        "  folder_path = os.path.join('/content/drive/MyDrive/TOPDOWN_ANOTHERTRAINTEST', folder)\n",
        "  if folder_path == '/content/drive/MyDrive/TOPDOWN_ANOTHERTRAINTEST/test':\n",
        "    print('The number of test images: ', len(os.listdir(folder_path)))\n",
        "  elif folder_path == '/content/drive/MyDrive/TOPDOWN_ANOTHERTRAINTEST/train':\n",
        "    print('The number of train images: ', len(os.listdir(folder_path)))"
      ],
      "metadata": {
        "colab": {
          "base_uri": "https://localhost:8080/"
        },
        "id": "sWkPqg9ATy_g",
        "outputId": "e36a81f8-368e-40f6-d0d0-066d6341566e"
      },
      "execution_count": null,
      "outputs": [
        {
          "output_type": "stream",
          "name": "stdout",
          "text": [
            "The number of train images:  608\n",
            "The number of test images:  164\n"
          ]
        }
      ]
    },
    {
      "cell_type": "code",
      "source": [
        "def count_images_and_annotations(folder_path):\n",
        "  image_count = 0\n",
        "  annotation_count = 0\n",
        "\n",
        "  for root, dirs, files in os.walk(folder_path):\n",
        "    for file in files:\n",
        "      if file.lower().endswith(('.jpg', '.jpeg', '.png')):\n",
        "        image_count += 1\n",
        "      elif file.lower().endswith('.xml'):\n",
        "        annotation_count += 1\n",
        "\n",
        "  return image_count, annotation_count\n",
        "\n",
        "train_folder = '/content/drive/MyDrive/TOPDOWN_ANOTHERTRAINTEST/test'\n",
        "image_count, annotation_count = count_images_and_annotations(train_folder)\n",
        "\n",
        "print(f\"Number of image files in 'train': {image_count}\")\n",
        "print(f\"Number of annotation files in 'train': {annotation_count}\")"
      ],
      "metadata": {
        "colab": {
          "base_uri": "https://localhost:8080/"
        },
        "id": "M6EvNqkMUpKR",
        "outputId": "68991b7f-8797-46c3-b9d1-204c6a11801c"
      },
      "execution_count": null,
      "outputs": [
        {
          "output_type": "stream",
          "name": "stdout",
          "text": [
            "Number of image files in 'train': 82\n",
            "Number of annotation files in 'train': 82\n"
          ]
        }
      ]
    },
    {
      "cell_type": "markdown",
      "source": [
        "# Cropping for image classification model\n",
        "Now preparing the image dataset for the model I will build a patch with:"
      ],
      "metadata": {
        "id": "rtBB-jKuIgf0"
      }
    },
    {
      "cell_type": "code",
      "source": [
        "import os\n",
        "import cv2\n",
        "from lxml import etree"
      ],
      "metadata": {
        "id": "6aO_5FHzJHcI"
      },
      "execution_count": null,
      "outputs": []
    },
    {
      "cell_type": "code",
      "source": [
        "objdet_folder = '/content/drive/MyDrive/Tensorflow/workspace/images/TOPDOWNtest'\n",
        "output_folder = '/content/drive/MyDrive/TOPDOWN_IMGCLASSIFICATION/test'\n",
        "\n",
        "os.makedirs(output_folder, exist_ok=True)"
      ],
      "metadata": {
        "id": "o9-EJv5wJsBi"
      },
      "execution_count": null,
      "outputs": []
    },
    {
      "cell_type": "markdown",
      "source": [
        "Using the .xml data to pull out the objects from the annotated images and depositing them into folders based on their class names:"
      ],
      "metadata": {
        "id": "x97fltCGhsLo"
      }
    },
    {
      "cell_type": "code",
      "source": [
        "for filename in os.listdir(objdet_folder):\n",
        "  if filename.endswith('.xml'):\n",
        "    xml_path = os.path.join(objdet_folder, filename)\n",
        "    tree = etree.parse(xml_path)\n",
        "    root = tree.getroot()\n",
        "\n",
        "    image_filename = os.path.splitext(filename)[0] + '.jpg'\n",
        "    image_path = os.path.join(objdet_folder, image_filename)\n",
        "    image = cv2.imread(image_path)\n",
        "\n",
        "    # Loop through the object bounding boxes in the XML\n",
        "    for obj in root.xpath('//object'):\n",
        "      xmin = int(obj.xpath('.//xmin')[0].text)\n",
        "      ymin = int(obj.xpath('.//ymin')[0].text)\n",
        "      xmax = int(obj.xpath('.//xmax')[0].text)\n",
        "      ymax = int(obj.xpath('.//ymax')[0].text)\n",
        "      label = obj.xpath('.//name')[0].text\n",
        "\n",
        "      # Crop the region of interest from the image\n",
        "      cropped_img = image[ymin:ymax, xmin:xmax]\n",
        "\n",
        "      # Save the cropped image\n",
        "      cropped_filename = f\"{label}_{xmin}_{ymin}_{xmax}_{ymax}.jpg\"\n",
        "      cropped_path = os.path.join(output_folder, cropped_filename)\n",
        "      cv2.imwrite(cropped_path, cropped_img)\n",
        "\n",
        "print(\"Cropping and saving completed.\")"
      ],
      "metadata": {
        "colab": {
          "base_uri": "https://localhost:8080/"
        },
        "id": "YVvP5nZCKEKV",
        "outputId": "4176cc7a-5f6d-47ca-fb56-1aa538c25009"
      },
      "execution_count": null,
      "outputs": [
        {
          "output_type": "stream",
          "name": "stdout",
          "text": [
            "Cropping and saving completed.\n"
          ]
        }
      ]
    },
    {
      "cell_type": "markdown",
      "source": [
        "These are assorted sorting functions:"
      ],
      "metadata": {
        "id": "V345VdKRhzk9"
      }
    },
    {
      "cell_type": "code",
      "source": [
        "lengths = []\n",
        "for folder in os.listdir('/content/drive/MyDrive/TOPDOWN_IMGCLASSIFICATION/train'):\n",
        "  subfolder = os.path.join('/content/drive/MyDrive/TOPDOWN_IMGCLASSIFICATION/train', folder)\n",
        "  lengths.append(len(os.listdir(subfolder)))\n",
        "lengths"
      ],
      "metadata": {
        "colab": {
          "base_uri": "https://localhost:8080/"
        },
        "id": "_jO3luJjU_JH",
        "outputId": "8354186f-3c13-45da-9c04-ca5763dbbd19"
      },
      "execution_count": null,
      "outputs": [
        {
          "output_type": "execute_result",
          "data": {
            "text/plain": [
              "[326, 242, 581, 163, 91, 231, 322]"
            ]
          },
          "metadata": {},
          "execution_count": 31
        }
      ]
    },
    {
      "cell_type": "code",
      "source": [
        "lengths = []\n",
        "for folder in os.listdir('/content/drive/MyDrive/TOPDOWN_IMGCLASSIFICATION/test'):\n",
        "  subfolder = os.path.join('/content/drive/MyDrive/TOPDOWN_IMGCLASSIFICATION/test', folder)\n",
        "  lengths.append(len(os.listdir(subfolder)))\n",
        "lengths\n",
        "print('The amount of test images:', sum(lengths))"
      ],
      "metadata": {
        "id": "pLyxBPDZPtYe"
      },
      "execution_count": null,
      "outputs": []
    },
    {
      "cell_type": "code",
      "source": [
        "train_folder = '/content/drive/MyDrive/TOPDOWN_IMGCLASSIFICATION/test'\n",
        "source_files = os.listdir(train_folder)\n",
        "\n",
        "for filename in source_files:\n",
        "  if not filename.lower().endswith(('.jpg', '.jpeg', '.png', '.bmp')):\n",
        "    continue\n",
        "\n",
        "  # Extract the class name from the filename (which is at the beginning of the filename)\n",
        "  class_name = filename.split('_')[0]\n",
        "\n",
        "  # Create class subfolder if it doesn't exist\n",
        "  class_folder = os.path.join(train_folder, class_name)\n",
        "  os.makedirs(class_folder, exist_ok=True)\n",
        "\n",
        "  # Move the image to the respective class subfolder\n",
        "  src_path = os.path.join(train_folder, filename)\n",
        "  dest_path = os.path.join(class_folder, filename)\n",
        "  shutil.move(src_path, dest_path)\n",
        "\n",
        "print(\"Moving images to respective class subfolders completed.\")"
      ],
      "metadata": {
        "colab": {
          "base_uri": "https://localhost:8080/"
        },
        "id": "wOkIUgbqRuqW",
        "outputId": "3929ce81-eebd-4c05-ff9f-c96ce8684c0a"
      },
      "execution_count": null,
      "outputs": [
        {
          "output_type": "stream",
          "name": "stdout",
          "text": [
            "Moving images to respective class subfolders completed.\n"
          ]
        }
      ]
    },
    {
      "cell_type": "code",
      "source": [
        "train_folder = '/content/drive/MyDrive/TOPDOWN_IMGCLASSIFICATION/train'\n",
        "test_folder = '/content/drive/MyDrive/TOPDOWN_IMGCLASSIFICATION/test'"
      ],
      "metadata": {
        "id": "a6yBYcI5Qx-n"
      },
      "execution_count": null,
      "outputs": []
    },
    {
      "cell_type": "code",
      "source": [
        "testing_files = os.listdir(test_folder)\n",
        "\n",
        "# Move each testing image to the training folder\n",
        "for filename in testing_files:\n",
        "  src_path = os.path.join(test_folder, filename)\n",
        "  dest_path = os.path.join(train_folder, filename)\n",
        "  shutil.move(src_path, dest_path)"
      ],
      "metadata": {
        "id": "IQ7X6AqFQxE5"
      },
      "execution_count": null,
      "outputs": []
    }
  ]
<<<<<<< HEAD
}
=======
}
>>>>>>> 80df713b0615ef333856bdcb97cd028713176f2f
